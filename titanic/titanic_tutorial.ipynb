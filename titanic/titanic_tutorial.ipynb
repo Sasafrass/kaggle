{
 "cells": [
  {
   "cell_type": "code",
   "execution_count": 1,
   "metadata": {},
   "outputs": [],
   "source": [
    "# imports\n",
    "import numpy as np\n",
    "import pandas as pd"
   ]
  },
  {
   "cell_type": "code",
   "execution_count": 2,
   "metadata": {},
   "outputs": [],
   "source": [
    "# data analysis and wrangling\n",
    "import matplotlib.pyplot as plt\n",
    "import numpy as np\n",
    "import random\n",
    "import pandas as pd\n",
    "import sklearn\n",
    "from sklearn import tree\n",
    "from sklearn import preprocessing \n",
    "\n",
    "# machine learning\n",
    "from sklearn.ensemble import RandomForestClassifier\n",
    "from sklearn.model_selection import RandomizedSearchCV, train_test_split\n",
    "\n",
    "# Plotting\n",
    "import seaborn as sns\n",
    "%matplotlib inline\n",
    "sns.set()\n",
    "\n",
    "# Operating SYStem stuff\n",
    "import os\n",
    "\n",
    "# Ignore\n",
    "import warnings\n",
    "warnings.filterwarnings(\"ignore\")#, category=FutureWarning)"
   ]
  },
  {
   "cell_type": "code",
   "execution_count": 3,
   "metadata": {},
   "outputs": [],
   "source": [
    "# Get paths for data CSVs\n",
    "train_path = os.path.join('data', 'titanic_train.csv')\n",
    "test_path  = os.path.join('data','test.csv')\n",
    "\n",
    "train_df = pd.read_csv(train_path)\n",
    "test_df  = pd.read_csv(test_path)\n",
    "PassengerId = test_df.PassengerId\n",
    "# gender_submission = pd.read_csv('/kaggle/input/titanic/gender_submission.csv')"
   ]
  },
  {
   "cell_type": "markdown",
   "metadata": {},
   "source": [
    "## Exploratory Data Analysis"
   ]
  },
  {
   "cell_type": "code",
   "execution_count": 4,
   "metadata": {},
   "outputs": [],
   "source": [
    "#Recommendations for EDA:\n",
    "#1. Make boxplots of each numerical feature to get visual info about basic statistical info\n",
    "#2. Make a correlation heatmap of the features to detect multicollinearity\n",
    "#3. Make pivot tables for categorical features against the target\n",
    "\n",
    "# These were tips from the notebook that I didn't actually use for EDA"
   ]
  },
  {
   "cell_type": "code",
   "execution_count": 5,
   "metadata": {},
   "outputs": [],
   "source": [
    "# Main theme throughout the EDA: Try to find a proper way of visualizing / displaying\n",
    "# the relationship between a variable and the 'Survived' label"
   ]
  },
  {
   "cell_type": "code",
   "execution_count": 6,
   "metadata": {},
   "outputs": [
    {
     "data": {
      "text/plain": [
       "Index(['PassengerId', 'Survived', 'Pclass', 'Name', 'Sex', 'Age', 'SibSp',\n",
       "       'Parch', 'Ticket', 'Fare', 'Cabin', 'Embarked'],\n",
       "      dtype='object')"
      ]
     },
     "execution_count": 6,
     "metadata": {},
     "output_type": "execute_result"
    }
   ],
   "source": [
    "train_df.columns"
   ]
  },
  {
   "cell_type": "code",
   "execution_count": 7,
   "metadata": {},
   "outputs": [
    {
     "data": {
      "text/plain": [
       "<AxesSubplot:>"
      ]
     },
     "execution_count": 7,
     "metadata": {},
     "output_type": "execute_result"
    },
    {
     "data": {
      "image/png": "[encoded data removed]",
      "text/plain": [
       "<Figure size 432x288 with 1 Axes>"
      ]
     },
     "metadata": {},
     "output_type": "display_data"
    }
   ],
   "source": [
    "train_df.boxplot()"
   ]
  },
  {
   "cell_type": "code",
   "execution_count": 8,
   "metadata": {},
   "outputs": [],
   "source": [
    "#train_df[['Age','Pclass']].boxplot()"
   ]
  },
  {
   "cell_type": "code",
   "execution_count": 9,
   "metadata": {},
   "outputs": [
    {
     "name": "stdout",
     "output_type": "stream",
     "text": [
      "<class 'pandas.core.frame.DataFrame'>\n",
      "RangeIndex: 891 entries, 0 to 890\n",
      "Data columns (total 12 columns):\n",
      " #   Column       Non-Null Count  Dtype  \n",
      "---  ------       --------------  -----  \n",
      " 0   PassengerId  891 non-null    int64  \n",
      " 1   Survived     891 non-null    int64  \n",
      " 2   Pclass       891 non-null    int64  \n",
      " 3   Name         891 non-null    object \n",
      " 4   Sex          891 non-null    object \n",
      " 5   Age          714 non-null    float64\n",
      " 6   SibSp        891 non-null    int64  \n",
      " 7   Parch        891 non-null    int64  \n",
      " 8   Ticket       891 non-null    object \n",
      " 9   Fare         891 non-null    float64\n",
      " 10  Cabin        204 non-null    object \n",
      " 11  Embarked     889 non-null    object \n",
      "dtypes: float64(2), int64(5), object(5)\n",
      "memory usage: 83.7+ KB\n"
     ]
    }
   ],
   "source": [
    "train_df.info()"
   ]
  },
  {
   "cell_type": "code",
   "execution_count": 10,
   "metadata": {},
   "outputs": [
    {
     "data": {
      "text/html": [
       "<div>\n",
       "<style scoped>\n",
       "    .dataframe tbody tr th:only-of-type {\n",
       "        vertical-align: middle;\n",
       "    }\n",
       "\n",
       "    .dataframe tbody tr th {\n",
       "        vertical-align: top;\n",
       "    }\n",
       "\n",
       "    .dataframe thead th {\n",
       "        text-align: right;\n",
       "    }\n",
       "</style>\n",
       "<table border=\"1\" class=\"dataframe\">\n",
       "  <thead>\n",
       "    <tr style=\"text-align: right;\">\n",
       "      <th></th>\n",
       "      <th>PassengerId</th>\n",
       "      <th>Survived</th>\n",
       "      <th>Pclass</th>\n",
       "      <th>Age</th>\n",
       "      <th>SibSp</th>\n",
       "      <th>Parch</th>\n",
       "      <th>Fare</th>\n",
       "    </tr>\n",
       "  </thead>\n",
       "  <tbody>\n",
       "    <tr>\n",
       "      <th>count</th>\n",
       "      <td>891.000000</td>\n",
       "      <td>891.000000</td>\n",
       "      <td>891.000000</td>\n",
       "      <td>714.000000</td>\n",
       "      <td>891.000000</td>\n",
       "      <td>891.000000</td>\n",
       "      <td>891.000000</td>\n",
       "    </tr>\n",
       "    <tr>\n",
       "      <th>mean</th>\n",
       "      <td>446.000000</td>\n",
       "      <td>0.383838</td>\n",
       "      <td>2.308642</td>\n",
       "      <td>29.699118</td>\n",
       "      <td>0.523008</td>\n",
       "      <td>0.381594</td>\n",
       "      <td>32.204208</td>\n",
       "    </tr>\n",
       "    <tr>\n",
       "      <th>std</th>\n",
       "      <td>257.353842</td>\n",
       "      <td>0.486592</td>\n",
       "      <td>0.836071</td>\n",
       "      <td>14.526497</td>\n",
       "      <td>1.102743</td>\n",
       "      <td>0.806057</td>\n",
       "      <td>49.693429</td>\n",
       "    </tr>\n",
       "    <tr>\n",
       "      <th>min</th>\n",
       "      <td>1.000000</td>\n",
       "      <td>0.000000</td>\n",
       "      <td>1.000000</td>\n",
       "      <td>0.420000</td>\n",
       "      <td>0.000000</td>\n",
       "      <td>0.000000</td>\n",
       "      <td>0.000000</td>\n",
       "    </tr>\n",
       "    <tr>\n",
       "      <th>25%</th>\n",
       "      <td>223.500000</td>\n",
       "      <td>0.000000</td>\n",
       "      <td>2.000000</td>\n",
       "      <td>20.125000</td>\n",
       "      <td>0.000000</td>\n",
       "      <td>0.000000</td>\n",
       "      <td>7.910400</td>\n",
       "    </tr>\n",
       "    <tr>\n",
       "      <th>50%</th>\n",
       "      <td>446.000000</td>\n",
       "      <td>0.000000</td>\n",
       "      <td>3.000000</td>\n",
       "      <td>28.000000</td>\n",
       "      <td>0.000000</td>\n",
       "      <td>0.000000</td>\n",
       "      <td>14.454200</td>\n",
       "    </tr>\n",
       "    <tr>\n",
       "      <th>75%</th>\n",
       "      <td>668.500000</td>\n",
       "      <td>1.000000</td>\n",
       "      <td>3.000000</td>\n",
       "      <td>38.000000</td>\n",
       "      <td>1.000000</td>\n",
       "      <td>0.000000</td>\n",
       "      <td>31.000000</td>\n",
       "    </tr>\n",
       "    <tr>\n",
       "      <th>max</th>\n",
       "      <td>891.000000</td>\n",
       "      <td>1.000000</td>\n",
       "      <td>3.000000</td>\n",
       "      <td>80.000000</td>\n",
       "      <td>8.000000</td>\n",
       "      <td>6.000000</td>\n",
       "      <td>512.329200</td>\n",
       "    </tr>\n",
       "  </tbody>\n",
       "</table>\n",
       "</div>"
      ],
      "text/plain": [
       "       PassengerId    Survived      Pclass         Age       SibSp  \\\n",
       "count   891.000000  891.000000  891.000000  714.000000  891.000000   \n",
       "mean    446.000000    0.383838    2.308642   29.699118    0.523008   \n",
       "std     257.353842    0.486592    0.836071   14.526497    1.102743   \n",
       "min       1.000000    0.000000    1.000000    0.420000    0.000000   \n",
       "25%     223.500000    0.000000    2.000000   20.125000    0.000000   \n",
       "50%     446.000000    0.000000    3.000000   28.000000    0.000000   \n",
       "75%     668.500000    1.000000    3.000000   38.000000    1.000000   \n",
       "max     891.000000    1.000000    3.000000   80.000000    8.000000   \n",
       "\n",
       "            Parch        Fare  \n",
       "count  891.000000  891.000000  \n",
       "mean     0.381594   32.204208  \n",
       "std      0.806057   49.693429  \n",
       "min      0.000000    0.000000  \n",
       "25%      0.000000    7.910400  \n",
       "50%      0.000000   14.454200  \n",
       "75%      0.000000   31.000000  \n",
       "max      6.000000  512.329200  "
      ]
     },
     "execution_count": 10,
     "metadata": {},
     "output_type": "execute_result"
    }
   ],
   "source": [
    "train_df.describe()"
   ]
  },
  {
   "cell_type": "code",
   "execution_count": 11,
   "metadata": {},
   "outputs": [
    {
     "data": {
      "text/plain": [
       "<AxesSubplot:xlabel='Survived', ylabel='count'>"
      ]
     },
     "execution_count": 11,
     "metadata": {},
     "output_type": "execute_result"
    },
    {
     "data": {
      "image/png": "[encoded data removed]",
      "text/plain": [
       "<Figure size 432x288 with 1 Axes>"
      ]
     },
     "metadata": {},
     "output_type": "display_data"
    }
   ],
   "source": [
    "# How many died? Is it balanced?\n",
    "sns.countplot(x='Survived', data = train_df)"
   ]
  },
  {
   "cell_type": "code",
   "execution_count": 12,
   "metadata": {},
   "outputs": [
    {
     "name": "stdout",
     "output_type": "stream",
     "text": [
      "0.3838383838383838\n"
     ]
    }
   ],
   "source": [
    "# Percentage of survived\n",
    "print(train_df.Survived.sum()/train_df.Survived.count())"
   ]
  },
  {
   "cell_type": "code",
   "execution_count": 13,
   "metadata": {},
   "outputs": [
    {
     "data": {
      "text/plain": [
       "Survived  Sex   \n",
       "0         female     81\n",
       "          male      468\n",
       "1         female    233\n",
       "          male      109\n",
       "Name: Survived, dtype: int64"
      ]
     },
     "execution_count": 13,
     "metadata": {},
     "output_type": "execute_result"
    }
   ],
   "source": [
    "train_df.groupby(['Survived','Sex'])['Survived'].count()"
   ]
  },
  {
   "cell_type": "code",
   "execution_count": 14,
   "metadata": {},
   "outputs": [
    {
     "data": {
      "image/png": "[encoded data removed]",
      "text/plain": [
       "<Figure size 720x360 with 2 Axes>"
      ]
     },
     "metadata": {},
     "output_type": "display_data"
    }
   ],
   "source": [
    "sns.catplot(x='Sex', col='Survived', kind='count', data=train_df);"
   ]
  },
  {
   "cell_type": "code",
   "execution_count": 15,
   "metadata": {},
   "outputs": [
    {
     "name": "stdout",
     "output_type": "stream",
     "text": [
      "% of women survived:  0.7420382165605095\n",
      "% of men survived:    0.18890814558058924\n"
     ]
    }
   ],
   "source": [
    "print(\"% of women survived: \" , train_df[train_df.Sex == 'female'].Survived.sum()/train_df[train_df.Sex == 'female'].Survived.count())\n",
    "print(\"% of men survived:   \" , train_df[train_df.Sex == 'male'].Survived.sum()/train_df[train_df.Sex == 'male'].Survived.count())"
   ]
  },
  {
   "cell_type": "code",
   "execution_count": 16,
   "metadata": {},
   "outputs": [],
   "source": [
    "# Baseline model of women survived and mean died = 0.766 accuracy!"
   ]
  },
  {
   "cell_type": "code",
   "execution_count": 17,
   "metadata": {},
   "outputs": [
    {
     "data": {
      "text/html": [
       "<style  type=\"text/css\" >\n",
       "#T_9faf5666_2a7d_11eb_88e8_bd7295bb9531row0_col0,#T_9faf5666_2a7d_11eb_88e8_bd7295bb9531row1_col1{\n",
       "            background-color:  #ffff00;\n",
       "            color:  #000000;\n",
       "        }#T_9faf5666_2a7d_11eb_88e8_bd7295bb9531row0_col1,#T_9faf5666_2a7d_11eb_88e8_bd7295bb9531row2_col0{\n",
       "            background-color:  #ff0000;\n",
       "            color:  #f1f1f1;\n",
       "        }#T_9faf5666_2a7d_11eb_88e8_bd7295bb9531row1_col0{\n",
       "            background-color:  #fff100;\n",
       "            color:  #000000;\n",
       "        }#T_9faf5666_2a7d_11eb_88e8_bd7295bb9531row2_col1{\n",
       "            background-color:  #ff5800;\n",
       "            color:  #000000;\n",
       "        }</style><table id=\"T_9faf5666_2a7d_11eb_88e8_bd7295bb9531\" ><thead>    <tr>        <th class=\"index_name level0\" >Survived</th>        <th class=\"col_heading level0 col0\" >0</th>        <th class=\"col_heading level0 col1\" >1</th>    </tr>    <tr>        <th class=\"index_name level0\" >Pclass</th>        <th class=\"blank\" ></th>        <th class=\"blank\" ></th>    </tr></thead><tbody>\n",
       "                <tr>\n",
       "                        <th id=\"T_9faf5666_2a7d_11eb_88e8_bd7295bb9531level0_row0\" class=\"row_heading level0 row0\" >1</th>\n",
       "                        <td id=\"T_9faf5666_2a7d_11eb_88e8_bd7295bb9531row0_col0\" class=\"data row0 col0\" >80</td>\n",
       "                        <td id=\"T_9faf5666_2a7d_11eb_88e8_bd7295bb9531row0_col1\" class=\"data row0 col1\" >136</td>\n",
       "            </tr>\n",
       "            <tr>\n",
       "                        <th id=\"T_9faf5666_2a7d_11eb_88e8_bd7295bb9531level0_row1\" class=\"row_heading level0 row1\" >2</th>\n",
       "                        <td id=\"T_9faf5666_2a7d_11eb_88e8_bd7295bb9531row1_col0\" class=\"data row1 col0\" >97</td>\n",
       "                        <td id=\"T_9faf5666_2a7d_11eb_88e8_bd7295bb9531row1_col1\" class=\"data row1 col1\" >87</td>\n",
       "            </tr>\n",
       "            <tr>\n",
       "                        <th id=\"T_9faf5666_2a7d_11eb_88e8_bd7295bb9531level0_row2\" class=\"row_heading level0 row2\" >3</th>\n",
       "                        <td id=\"T_9faf5666_2a7d_11eb_88e8_bd7295bb9531row2_col0\" class=\"data row2 col0\" >372</td>\n",
       "                        <td id=\"T_9faf5666_2a7d_11eb_88e8_bd7295bb9531row2_col1\" class=\"data row2 col1\" >119</td>\n",
       "            </tr>\n",
       "    </tbody></table>"
      ],
      "text/plain": [
       "<pandas.io.formats.style.Styler at 0x7eff1eaa33c8>"
      ]
     },
     "execution_count": 17,
     "metadata": {},
     "output_type": "execute_result"
    }
   ],
   "source": [
    "pd.crosstab(train_df.Pclass, train_df.Survived).style.background_gradient(cmap='autumn_r')\n",
    "#, margins=True"
   ]
  },
  {
   "cell_type": "code",
   "execution_count": 18,
   "metadata": {},
   "outputs": [
    {
     "data": {
      "image/png": "[encoded data removed]",
      "text/plain": [
       "<Figure size 360x360 with 1 Axes>"
      ]
     },
     "metadata": {},
     "output_type": "display_data"
    }
   ],
   "source": [
    "sns.catplot('Pclass','Survived', kind='point', data=train_df);"
   ]
  },
  {
   "cell_type": "code",
   "execution_count": 19,
   "metadata": {},
   "outputs": [
    {
     "data": {
      "text/html": [
       "<style  type=\"text/css\" >\n",
       "#T_9faf5667_2a7d_11eb_88e8_bd7295bb9531row0_col0,#T_9faf5667_2a7d_11eb_88e8_bd7295bb9531row0_col1,#T_9faf5667_2a7d_11eb_88e8_bd7295bb9531row0_col3,#T_9faf5667_2a7d_11eb_88e8_bd7295bb9531row3_col2{\n",
       "            background-color:  #ffff00;\n",
       "            color:  #000000;\n",
       "        }#T_9faf5667_2a7d_11eb_88e8_bd7295bb9531row0_col2,#T_9faf5667_2a7d_11eb_88e8_bd7295bb9531row1_col2{\n",
       "            background-color:  #fff100;\n",
       "            color:  #000000;\n",
       "        }#T_9faf5667_2a7d_11eb_88e8_bd7295bb9531row1_col0{\n",
       "            background-color:  #ff9600;\n",
       "            color:  #000000;\n",
       "        }#T_9faf5667_2a7d_11eb_88e8_bd7295bb9531row1_col1{\n",
       "            background-color:  #ffa300;\n",
       "            color:  #000000;\n",
       "        }#T_9faf5667_2a7d_11eb_88e8_bd7295bb9531row1_col3{\n",
       "            background-color:  #ffcf00;\n",
       "            color:  #000000;\n",
       "        }#T_9faf5667_2a7d_11eb_88e8_bd7295bb9531row2_col0{\n",
       "            background-color:  #ffa700;\n",
       "            color:  #000000;\n",
       "        }#T_9faf5667_2a7d_11eb_88e8_bd7295bb9531row2_col1,#T_9faf5667_2a7d_11eb_88e8_bd7295bb9531row2_col3{\n",
       "            background-color:  #ff8500;\n",
       "            color:  #000000;\n",
       "        }#T_9faf5667_2a7d_11eb_88e8_bd7295bb9531row2_col2{\n",
       "            background-color:  #ff6e00;\n",
       "            color:  #000000;\n",
       "        }#T_9faf5667_2a7d_11eb_88e8_bd7295bb9531row3_col0{\n",
       "            background-color:  #ffcd00;\n",
       "            color:  #000000;\n",
       "        }#T_9faf5667_2a7d_11eb_88e8_bd7295bb9531row3_col1{\n",
       "            background-color:  #fff000;\n",
       "            color:  #000000;\n",
       "        }#T_9faf5667_2a7d_11eb_88e8_bd7295bb9531row3_col3{\n",
       "            background-color:  #fff700;\n",
       "            color:  #000000;\n",
       "        }#T_9faf5667_2a7d_11eb_88e8_bd7295bb9531row4_col0,#T_9faf5667_2a7d_11eb_88e8_bd7295bb9531row4_col1,#T_9faf5667_2a7d_11eb_88e8_bd7295bb9531row4_col2,#T_9faf5667_2a7d_11eb_88e8_bd7295bb9531row4_col3{\n",
       "            background-color:  #ff0000;\n",
       "            color:  #f1f1f1;\n",
       "        }</style><table id=\"T_9faf5667_2a7d_11eb_88e8_bd7295bb9531\" ><thead>    <tr>        <th class=\"blank\" ></th>        <th class=\"index_name level0\" >Pclass</th>        <th class=\"col_heading level0 col0\" >1</th>        <th class=\"col_heading level0 col1\" >2</th>        <th class=\"col_heading level0 col2\" >3</th>        <th class=\"col_heading level0 col3\" >All</th>    </tr>    <tr>        <th class=\"index_name level0\" >Sex</th>        <th class=\"index_name level1\" >Survived</th>        <th class=\"blank\" ></th>        <th class=\"blank\" ></th>        <th class=\"blank\" ></th>        <th class=\"blank\" ></th>    </tr></thead><tbody>\n",
       "                <tr>\n",
       "                        <th id=\"T_9faf5667_2a7d_11eb_88e8_bd7295bb9531level0_row0\" class=\"row_heading level0 row0\" rowspan=2>female</th>\n",
       "                        <th id=\"T_9faf5667_2a7d_11eb_88e8_bd7295bb9531level1_row0\" class=\"row_heading level1 row0\" >0</th>\n",
       "                        <td id=\"T_9faf5667_2a7d_11eb_88e8_bd7295bb9531row0_col0\" class=\"data row0 col0\" >3</td>\n",
       "                        <td id=\"T_9faf5667_2a7d_11eb_88e8_bd7295bb9531row0_col1\" class=\"data row0 col1\" >6</td>\n",
       "                        <td id=\"T_9faf5667_2a7d_11eb_88e8_bd7295bb9531row0_col2\" class=\"data row0 col2\" >72</td>\n",
       "                        <td id=\"T_9faf5667_2a7d_11eb_88e8_bd7295bb9531row0_col3\" class=\"data row0 col3\" >81</td>\n",
       "            </tr>\n",
       "            <tr>\n",
       "                                <th id=\"T_9faf5667_2a7d_11eb_88e8_bd7295bb9531level1_row1\" class=\"row_heading level1 row1\" >1</th>\n",
       "                        <td id=\"T_9faf5667_2a7d_11eb_88e8_bd7295bb9531row1_col0\" class=\"data row1 col0\" >91</td>\n",
       "                        <td id=\"T_9faf5667_2a7d_11eb_88e8_bd7295bb9531row1_col1\" class=\"data row1 col1\" >70</td>\n",
       "                        <td id=\"T_9faf5667_2a7d_11eb_88e8_bd7295bb9531row1_col2\" class=\"data row1 col2\" >72</td>\n",
       "                        <td id=\"T_9faf5667_2a7d_11eb_88e8_bd7295bb9531row1_col3\" class=\"data row1 col3\" >233</td>\n",
       "            </tr>\n",
       "            <tr>\n",
       "                        <th id=\"T_9faf5667_2a7d_11eb_88e8_bd7295bb9531level0_row2\" class=\"row_heading level0 row2\" rowspan=2>male</th>\n",
       "                        <th id=\"T_9faf5667_2a7d_11eb_88e8_bd7295bb9531level1_row2\" class=\"row_heading level1 row2\" >0</th>\n",
       "                        <td id=\"T_9faf5667_2a7d_11eb_88e8_bd7295bb9531row2_col0\" class=\"data row2 col0\" >77</td>\n",
       "                        <td id=\"T_9faf5667_2a7d_11eb_88e8_bd7295bb9531row2_col1\" class=\"data row2 col1\" >91</td>\n",
       "                        <td id=\"T_9faf5667_2a7d_11eb_88e8_bd7295bb9531row2_col2\" class=\"data row2 col2\" >300</td>\n",
       "                        <td id=\"T_9faf5667_2a7d_11eb_88e8_bd7295bb9531row2_col3\" class=\"data row2 col3\" >468</td>\n",
       "            </tr>\n",
       "            <tr>\n",
       "                                <th id=\"T_9faf5667_2a7d_11eb_88e8_bd7295bb9531level1_row3\" class=\"row_heading level1 row3\" >1</th>\n",
       "                        <td id=\"T_9faf5667_2a7d_11eb_88e8_bd7295bb9531row3_col0\" class=\"data row3 col0\" >45</td>\n",
       "                        <td id=\"T_9faf5667_2a7d_11eb_88e8_bd7295bb9531row3_col1\" class=\"data row3 col1\" >17</td>\n",
       "                        <td id=\"T_9faf5667_2a7d_11eb_88e8_bd7295bb9531row3_col2\" class=\"data row3 col2\" >47</td>\n",
       "                        <td id=\"T_9faf5667_2a7d_11eb_88e8_bd7295bb9531row3_col3\" class=\"data row3 col3\" >109</td>\n",
       "            </tr>\n",
       "            <tr>\n",
       "                        <th id=\"T_9faf5667_2a7d_11eb_88e8_bd7295bb9531level0_row4\" class=\"row_heading level0 row4\" >All</th>\n",
       "                        <th id=\"T_9faf5667_2a7d_11eb_88e8_bd7295bb9531level1_row4\" class=\"row_heading level1 row4\" ></th>\n",
       "                        <td id=\"T_9faf5667_2a7d_11eb_88e8_bd7295bb9531row4_col0\" class=\"data row4 col0\" >216</td>\n",
       "                        <td id=\"T_9faf5667_2a7d_11eb_88e8_bd7295bb9531row4_col1\" class=\"data row4 col1\" >184</td>\n",
       "                        <td id=\"T_9faf5667_2a7d_11eb_88e8_bd7295bb9531row4_col2\" class=\"data row4 col2\" >491</td>\n",
       "                        <td id=\"T_9faf5667_2a7d_11eb_88e8_bd7295bb9531row4_col3\" class=\"data row4 col3\" >891</td>\n",
       "            </tr>\n",
       "    </tbody></table>"
      ],
      "text/plain": [
       "<pandas.io.formats.style.Styler at 0x7eff1e790eb8>"
      ]
     },
     "execution_count": 19,
     "metadata": {},
     "output_type": "execute_result"
    }
   ],
   "source": [
    "pd.crosstab([train_df.Sex, train_df.Survived], train_df.Pclass,margins=True).style.background_gradient(cmap='autumn_r')"
   ]
  },
  {
   "cell_type": "code",
   "execution_count": 20,
   "metadata": {},
   "outputs": [
    {
     "data": {
      "image/png": "[encoded data removed]",
      "text/plain": [
       "<Figure size 437.975x360 with 1 Axes>"
      ]
     },
     "metadata": {},
     "output_type": "display_data"
    }
   ],
   "source": [
    "sns.catplot('Pclass','Survived',hue='Sex', kind='point', data=train_df);"
   ]
  },
  {
   "cell_type": "code",
   "execution_count": 21,
   "metadata": {},
   "outputs": [
    {
     "data": {
      "image/png": "[encoded data removed]",
      "text/plain": [
       "<Figure size 1080x360 with 3 Axes>"
      ]
     },
     "metadata": {},
     "output_type": "display_data"
    }
   ],
   "source": [
    "sns.catplot(x='Survived', col='Embarked', kind='count', data=train_df);"
   ]
  },
  {
   "cell_type": "code",
   "execution_count": 22,
   "metadata": {},
   "outputs": [
    {
     "data": {
      "image/png": "[encoded data removed]",
      "text/plain": [
       "<Figure size 437.975x360 with 1 Axes>"
      ]
     },
     "metadata": {},
     "output_type": "display_data"
    }
   ],
   "source": [
    "sns.catplot('Embarked','Survived', hue= 'Sex', kind='point', data=train_df);"
   ]
  },
  {
   "cell_type": "markdown",
   "metadata": {},
   "source": [
    "$\\textbf{Age: Continuous numerical to 8 bins}$ "
   ]
  },
  {
   "cell_type": "code",
   "execution_count": 23,
   "metadata": {},
   "outputs": [],
   "source": [
    "for df in [train_df, test_df]:\n",
    "    df['Age_bin']=np.nan\n",
    "    for i in range(8,0,-1):\n",
    "        df.loc[ df['Age'] <= i*10, 'Age_bin'] = i"
   ]
  },
  {
   "cell_type": "code",
   "execution_count": 24,
   "metadata": {},
   "outputs": [
    {
     "data": {
      "image/png": "[encoded data removed]",
      "text/plain": [
       "<Figure size 437.975x360 with 1 Axes>"
      ]
     },
     "metadata": {},
     "output_type": "display_data"
    }
   ],
   "source": [
    "sns.catplot('Age_bin','Survived',hue='Sex',kind='point',data=train_df);"
   ]
  },
  {
   "cell_type": "code",
   "execution_count": 25,
   "metadata": {},
   "outputs": [
    {
     "data": {
      "text/html": [
       "<style  type=\"text/css\" >\n",
       "#T_a12673ee_2a7d_11eb_88e8_bd7295bb9531row0_col0,#T_a12673ee_2a7d_11eb_88e8_bd7295bb9531row1_col20,#T_a12673ee_2a7d_11eb_88e8_bd7295bb9531row3_col19,#T_a12673ee_2a7d_11eb_88e8_bd7295bb9531row3_col21{\n",
       "            background-color:  #ffaa00;\n",
       "            color:  #000000;\n",
       "        }#T_a12673ee_2a7d_11eb_88e8_bd7295bb9531row0_col1,#T_a12673ee_2a7d_11eb_88e8_bd7295bb9531row0_col3,#T_a12673ee_2a7d_11eb_88e8_bd7295bb9531row0_col4,#T_a12673ee_2a7d_11eb_88e8_bd7295bb9531row0_col6,#T_a12673ee_2a7d_11eb_88e8_bd7295bb9531row0_col9,#T_a12673ee_2a7d_11eb_88e8_bd7295bb9531row0_col10,#T_a12673ee_2a7d_11eb_88e8_bd7295bb9531row0_col12,#T_a12673ee_2a7d_11eb_88e8_bd7295bb9531row0_col13,#T_a12673ee_2a7d_11eb_88e8_bd7295bb9531row0_col15,#T_a12673ee_2a7d_11eb_88e8_bd7295bb9531row0_col17,#T_a12673ee_2a7d_11eb_88e8_bd7295bb9531row0_col18,#T_a12673ee_2a7d_11eb_88e8_bd7295bb9531row0_col19,#T_a12673ee_2a7d_11eb_88e8_bd7295bb9531row0_col20,#T_a12673ee_2a7d_11eb_88e8_bd7295bb9531row0_col21,#T_a12673ee_2a7d_11eb_88e8_bd7295bb9531row0_col22,#T_a12673ee_2a7d_11eb_88e8_bd7295bb9531row0_col23,#T_a12673ee_2a7d_11eb_88e8_bd7295bb9531row1_col0,#T_a12673ee_2a7d_11eb_88e8_bd7295bb9531row1_col11,#T_a12673ee_2a7d_11eb_88e8_bd7295bb9531row1_col14,#T_a12673ee_2a7d_11eb_88e8_bd7295bb9531row1_col17,#T_a12673ee_2a7d_11eb_88e8_bd7295bb9531row1_col19,#T_a12673ee_2a7d_11eb_88e8_bd7295bb9531row1_col21,#T_a12673ee_2a7d_11eb_88e8_bd7295bb9531row1_col22,#T_a12673ee_2a7d_11eb_88e8_bd7295bb9531row2_col0,#T_a12673ee_2a7d_11eb_88e8_bd7295bb9531row2_col1,#T_a12673ee_2a7d_11eb_88e8_bd7295bb9531row3_col2,#T_a12673ee_2a7d_11eb_88e8_bd7295bb9531row3_col5,#T_a12673ee_2a7d_11eb_88e8_bd7295bb9531row3_col7,#T_a12673ee_2a7d_11eb_88e8_bd7295bb9531row3_col8,#T_a12673ee_2a7d_11eb_88e8_bd7295bb9531row3_col13,#T_a12673ee_2a7d_11eb_88e8_bd7295bb9531row3_col16,#T_a12673ee_2a7d_11eb_88e8_bd7295bb9531row3_col17,#T_a12673ee_2a7d_11eb_88e8_bd7295bb9531row3_col18,#T_a12673ee_2a7d_11eb_88e8_bd7295bb9531row3_col20,#T_a12673ee_2a7d_11eb_88e8_bd7295bb9531row3_col22{\n",
       "            background-color:  #ffff00;\n",
       "            color:  #000000;\n",
       "        }#T_a12673ee_2a7d_11eb_88e8_bd7295bb9531row0_col2,#T_a12673ee_2a7d_11eb_88e8_bd7295bb9531row0_col16,#T_a12673ee_2a7d_11eb_88e8_bd7295bb9531row1_col2,#T_a12673ee_2a7d_11eb_88e8_bd7295bb9531row1_col5{\n",
       "            background-color:  #ffea00;\n",
       "            color:  #000000;\n",
       "        }#T_a12673ee_2a7d_11eb_88e8_bd7295bb9531row0_col5,#T_a12673ee_2a7d_11eb_88e8_bd7295bb9531row3_col14{\n",
       "            background-color:  #ffee00;\n",
       "            color:  #000000;\n",
       "        }#T_a12673ee_2a7d_11eb_88e8_bd7295bb9531row0_col7,#T_a12673ee_2a7d_11eb_88e8_bd7295bb9531row3_col10{\n",
       "            background-color:  #fff300;\n",
       "            color:  #000000;\n",
       "        }#T_a12673ee_2a7d_11eb_88e8_bd7295bb9531row0_col8,#T_a12673ee_2a7d_11eb_88e8_bd7295bb9531row1_col8,#T_a12673ee_2a7d_11eb_88e8_bd7295bb9531row3_col11{\n",
       "            background-color:  #fffb00;\n",
       "            color:  #000000;\n",
       "        }#T_a12673ee_2a7d_11eb_88e8_bd7295bb9531row0_col11{\n",
       "            background-color:  #fff700;\n",
       "            color:  #000000;\n",
       "        }#T_a12673ee_2a7d_11eb_88e8_bd7295bb9531row0_col14{\n",
       "            background-color:  #ffbb00;\n",
       "            color:  #000000;\n",
       "        }#T_a12673ee_2a7d_11eb_88e8_bd7295bb9531row1_col1{\n",
       "            background-color:  #ff8700;\n",
       "            color:  #000000;\n",
       "        }#T_a12673ee_2a7d_11eb_88e8_bd7295bb9531row1_col3{\n",
       "            background-color:  #ff4700;\n",
       "            color:  #f1f1f1;\n",
       "        }#T_a12673ee_2a7d_11eb_88e8_bd7295bb9531row1_col4,#T_a12673ee_2a7d_11eb_88e8_bd7295bb9531row1_col13{\n",
       "            background-color:  #ff8e00;\n",
       "            color:  #000000;\n",
       "        }#T_a12673ee_2a7d_11eb_88e8_bd7295bb9531row1_col6{\n",
       "            background-color:  #ff8300;\n",
       "            color:  #000000;\n",
       "        }#T_a12673ee_2a7d_11eb_88e8_bd7295bb9531row1_col7{\n",
       "            background-color:  #ff9700;\n",
       "            color:  #000000;\n",
       "        }#T_a12673ee_2a7d_11eb_88e8_bd7295bb9531row1_col9{\n",
       "            background-color:  #ff8200;\n",
       "            color:  #000000;\n",
       "        }#T_a12673ee_2a7d_11eb_88e8_bd7295bb9531row1_col10{\n",
       "            background-color:  #ffa400;\n",
       "            color:  #000000;\n",
       "        }#T_a12673ee_2a7d_11eb_88e8_bd7295bb9531row1_col12{\n",
       "            background-color:  #ffb100;\n",
       "            color:  #000000;\n",
       "        }#T_a12673ee_2a7d_11eb_88e8_bd7295bb9531row1_col15{\n",
       "            background-color:  #ff8f00;\n",
       "            color:  #000000;\n",
       "        }#T_a12673ee_2a7d_11eb_88e8_bd7295bb9531row1_col16,#T_a12673ee_2a7d_11eb_88e8_bd7295bb9531row2_col2,#T_a12673ee_2a7d_11eb_88e8_bd7295bb9531row2_col3{\n",
       "            background-color:  #ffd500;\n",
       "            color:  #000000;\n",
       "        }#T_a12673ee_2a7d_11eb_88e8_bd7295bb9531row1_col18{\n",
       "            background-color:  #ffd100;\n",
       "            color:  #000000;\n",
       "        }#T_a12673ee_2a7d_11eb_88e8_bd7295bb9531row1_col23,#T_a12673ee_2a7d_11eb_88e8_bd7295bb9531row3_col6{\n",
       "            background-color:  #ffcb00;\n",
       "            color:  #000000;\n",
       "        }#T_a12673ee_2a7d_11eb_88e8_bd7295bb9531row2_col4{\n",
       "            background-color:  #ff7f00;\n",
       "            color:  #000000;\n",
       "        }#T_a12673ee_2a7d_11eb_88e8_bd7295bb9531row2_col5{\n",
       "            background-color:  #ff7100;\n",
       "            color:  #000000;\n",
       "        }#T_a12673ee_2a7d_11eb_88e8_bd7295bb9531row2_col6{\n",
       "            background-color:  #ffc400;\n",
       "            color:  #000000;\n",
       "        }#T_a12673ee_2a7d_11eb_88e8_bd7295bb9531row2_col7{\n",
       "            background-color:  #ff7500;\n",
       "            color:  #000000;\n",
       "        }#T_a12673ee_2a7d_11eb_88e8_bd7295bb9531row2_col8{\n",
       "            background-color:  #ff6600;\n",
       "            color:  #000000;\n",
       "        }#T_a12673ee_2a7d_11eb_88e8_bd7295bb9531row2_col9{\n",
       "            background-color:  #ffc100;\n",
       "            color:  #000000;\n",
       "        }#T_a12673ee_2a7d_11eb_88e8_bd7295bb9531row2_col10{\n",
       "            background-color:  #ff7900;\n",
       "            color:  #000000;\n",
       "        }#T_a12673ee_2a7d_11eb_88e8_bd7295bb9531row2_col11{\n",
       "            background-color:  #ff5e00;\n",
       "            color:  #000000;\n",
       "        }#T_a12673ee_2a7d_11eb_88e8_bd7295bb9531row2_col12,#T_a12673ee_2a7d_11eb_88e8_bd7295bb9531row2_col13{\n",
       "            background-color:  #ff9c00;\n",
       "            color:  #000000;\n",
       "        }#T_a12673ee_2a7d_11eb_88e8_bd7295bb9531row2_col14,#T_a12673ee_2a7d_11eb_88e8_bd7295bb9531row2_col19,#T_a12673ee_2a7d_11eb_88e8_bd7295bb9531row2_col20,#T_a12673ee_2a7d_11eb_88e8_bd7295bb9531row2_col21,#T_a12673ee_2a7d_11eb_88e8_bd7295bb9531row3_col0{\n",
       "            background-color:  #ff5500;\n",
       "            color:  #000000;\n",
       "        }#T_a12673ee_2a7d_11eb_88e8_bd7295bb9531row2_col15{\n",
       "            background-color:  #ff9900;\n",
       "            color:  #000000;\n",
       "        }#T_a12673ee_2a7d_11eb_88e8_bd7295bb9531row2_col16{\n",
       "            background-color:  #ff3f00;\n",
       "            color:  #f1f1f1;\n",
       "        }#T_a12673ee_2a7d_11eb_88e8_bd7295bb9531row2_col17,#T_a12673ee_2a7d_11eb_88e8_bd7295bb9531row2_col22,#T_a12673ee_2a7d_11eb_88e8_bd7295bb9531row4_col0,#T_a12673ee_2a7d_11eb_88e8_bd7295bb9531row4_col1,#T_a12673ee_2a7d_11eb_88e8_bd7295bb9531row4_col2,#T_a12673ee_2a7d_11eb_88e8_bd7295bb9531row4_col3,#T_a12673ee_2a7d_11eb_88e8_bd7295bb9531row4_col4,#T_a12673ee_2a7d_11eb_88e8_bd7295bb9531row4_col5,#T_a12673ee_2a7d_11eb_88e8_bd7295bb9531row4_col6,#T_a12673ee_2a7d_11eb_88e8_bd7295bb9531row4_col7,#T_a12673ee_2a7d_11eb_88e8_bd7295bb9531row4_col8,#T_a12673ee_2a7d_11eb_88e8_bd7295bb9531row4_col9,#T_a12673ee_2a7d_11eb_88e8_bd7295bb9531row4_col10,#T_a12673ee_2a7d_11eb_88e8_bd7295bb9531row4_col11,#T_a12673ee_2a7d_11eb_88e8_bd7295bb9531row4_col12,#T_a12673ee_2a7d_11eb_88e8_bd7295bb9531row4_col13,#T_a12673ee_2a7d_11eb_88e8_bd7295bb9531row4_col14,#T_a12673ee_2a7d_11eb_88e8_bd7295bb9531row4_col15,#T_a12673ee_2a7d_11eb_88e8_bd7295bb9531row4_col16,#T_a12673ee_2a7d_11eb_88e8_bd7295bb9531row4_col17,#T_a12673ee_2a7d_11eb_88e8_bd7295bb9531row4_col18,#T_a12673ee_2a7d_11eb_88e8_bd7295bb9531row4_col19,#T_a12673ee_2a7d_11eb_88e8_bd7295bb9531row4_col20,#T_a12673ee_2a7d_11eb_88e8_bd7295bb9531row4_col21,#T_a12673ee_2a7d_11eb_88e8_bd7295bb9531row4_col22,#T_a12673ee_2a7d_11eb_88e8_bd7295bb9531row4_col23{\n",
       "            background-color:  #ff0000;\n",
       "            color:  #f1f1f1;\n",
       "        }#T_a12673ee_2a7d_11eb_88e8_bd7295bb9531row2_col18{\n",
       "            background-color:  #ff2e00;\n",
       "            color:  #f1f1f1;\n",
       "        }#T_a12673ee_2a7d_11eb_88e8_bd7295bb9531row2_col23{\n",
       "            background-color:  #ff8b00;\n",
       "            color:  #000000;\n",
       "        }#T_a12673ee_2a7d_11eb_88e8_bd7295bb9531row3_col1{\n",
       "            background-color:  #ff7800;\n",
       "            color:  #000000;\n",
       "        }#T_a12673ee_2a7d_11eb_88e8_bd7295bb9531row3_col3{\n",
       "            background-color:  #ffe300;\n",
       "            color:  #000000;\n",
       "        }#T_a12673ee_2a7d_11eb_88e8_bd7295bb9531row3_col4{\n",
       "            background-color:  #fff100;\n",
       "            color:  #000000;\n",
       "        }#T_a12673ee_2a7d_11eb_88e8_bd7295bb9531row3_col9{\n",
       "            background-color:  #ffbc00;\n",
       "            color:  #000000;\n",
       "        }#T_a12673ee_2a7d_11eb_88e8_bd7295bb9531row3_col12{\n",
       "            background-color:  #ffc700;\n",
       "            color:  #000000;\n",
       "        }#T_a12673ee_2a7d_11eb_88e8_bd7295bb9531row3_col15{\n",
       "            background-color:  #ffd700;\n",
       "            color:  #000000;\n",
       "        }#T_a12673ee_2a7d_11eb_88e8_bd7295bb9531row3_col23{\n",
       "            background-color:  #fff400;\n",
       "            color:  #000000;\n",
       "        }</style><table id=\"T_a12673ee_2a7d_11eb_88e8_bd7295bb9531\" ><thead>    <tr>        <th class=\"blank\" ></th>        <th class=\"index_name level0\" >Age_bin</th>        <th class=\"col_heading level0 col0\" colspan=3>1.0</th>        <th class=\"col_heading level0 col3\" colspan=3>2.0</th>        <th class=\"col_heading level0 col6\" colspan=3>3.0</th>        <th class=\"col_heading level0 col9\" colspan=3>4.0</th>        <th class=\"col_heading level0 col12\" colspan=3>5.0</th>        <th class=\"col_heading level0 col15\" colspan=3>6.0</th>        <th class=\"col_heading level0 col18\" colspan=3>7.0</th>        <th class=\"col_heading level0 col21\" colspan=2>8.0</th>        <th class=\"col_heading level0 col23\" >All</th>    </tr>    <tr>        <th class=\"blank\" ></th>        <th class=\"index_name level1\" >Pclass</th>        <th class=\"col_heading level1 col0\" >1</th>        <th class=\"col_heading level1 col1\" >2</th>        <th class=\"col_heading level1 col2\" >3</th>        <th class=\"col_heading level1 col3\" >1</th>        <th class=\"col_heading level1 col4\" >2</th>        <th class=\"col_heading level1 col5\" >3</th>        <th class=\"col_heading level1 col6\" >1</th>        <th class=\"col_heading level1 col7\" >2</th>        <th class=\"col_heading level1 col8\" >3</th>        <th class=\"col_heading level1 col9\" >1</th>        <th class=\"col_heading level1 col10\" >2</th>        <th class=\"col_heading level1 col11\" >3</th>        <th class=\"col_heading level1 col12\" >1</th>        <th class=\"col_heading level1 col13\" >2</th>        <th class=\"col_heading level1 col14\" >3</th>        <th class=\"col_heading level1 col15\" >1</th>        <th class=\"col_heading level1 col16\" >2</th>        <th class=\"col_heading level1 col17\" >3</th>        <th class=\"col_heading level1 col18\" >1</th>        <th class=\"col_heading level1 col19\" >2</th>        <th class=\"col_heading level1 col20\" >3</th>        <th class=\"col_heading level1 col21\" >1</th>        <th class=\"col_heading level1 col22\" >3</th>        <th class=\"col_heading level1 col23\" ></th>    </tr>    <tr>        <th class=\"index_name level0\" >Sex</th>        <th class=\"index_name level1\" >Survived</th>        <th class=\"blank\" ></th>        <th class=\"blank\" ></th>        <th class=\"blank\" ></th>        <th class=\"blank\" ></th>        <th class=\"blank\" ></th>        <th class=\"blank\" ></th>        <th class=\"blank\" ></th>        <th class=\"blank\" ></th>        <th class=\"blank\" ></th>        <th class=\"blank\" ></th>        <th class=\"blank\" ></th>        <th class=\"blank\" ></th>        <th class=\"blank\" ></th>        <th class=\"blank\" ></th>        <th class=\"blank\" ></th>        <th class=\"blank\" ></th>        <th class=\"blank\" ></th>        <th class=\"blank\" ></th>        <th class=\"blank\" ></th>        <th class=\"blank\" ></th>        <th class=\"blank\" ></th>        <th class=\"blank\" ></th>        <th class=\"blank\" ></th>        <th class=\"blank\" ></th>    </tr></thead><tbody>\n",
       "                <tr>\n",
       "                        <th id=\"T_a12673ee_2a7d_11eb_88e8_bd7295bb9531level0_row0\" class=\"row_heading level0 row0\" rowspan=2>female</th>\n",
       "                        <th id=\"T_a12673ee_2a7d_11eb_88e8_bd7295bb9531level1_row0\" class=\"row_heading level1 row0\" >0</th>\n",
       "                        <td id=\"T_a12673ee_2a7d_11eb_88e8_bd7295bb9531row0_col0\" class=\"data row0 col0\" >1</td>\n",
       "                        <td id=\"T_a12673ee_2a7d_11eb_88e8_bd7295bb9531row0_col1\" class=\"data row0 col1\" >0</td>\n",
       "                        <td id=\"T_a12673ee_2a7d_11eb_88e8_bd7295bb9531row0_col2\" class=\"data row0 col2\" >11</td>\n",
       "                        <td id=\"T_a12673ee_2a7d_11eb_88e8_bd7295bb9531row0_col3\" class=\"data row0 col3\" >0</td>\n",
       "                        <td id=\"T_a12673ee_2a7d_11eb_88e8_bd7295bb9531row0_col4\" class=\"data row0 col4\" >0</td>\n",
       "                        <td id=\"T_a12673ee_2a7d_11eb_88e8_bd7295bb9531row0_col5\" class=\"data row0 col5\" >12</td>\n",
       "                        <td id=\"T_a12673ee_2a7d_11eb_88e8_bd7295bb9531row0_col6\" class=\"data row0 col6\" >1</td>\n",
       "                        <td id=\"T_a12673ee_2a7d_11eb_88e8_bd7295bb9531row0_col7\" class=\"data row0 col7\" >3</td>\n",
       "                        <td id=\"T_a12673ee_2a7d_11eb_88e8_bd7295bb9531row0_col8\" class=\"data row0 col8\" >16</td>\n",
       "                        <td id=\"T_a12673ee_2a7d_11eb_88e8_bd7295bb9531row0_col9\" class=\"data row0 col9\" >0</td>\n",
       "                        <td id=\"T_a12673ee_2a7d_11eb_88e8_bd7295bb9531row0_col10\" class=\"data row0 col10\" >1</td>\n",
       "                        <td id=\"T_a12673ee_2a7d_11eb_88e8_bd7295bb9531row0_col11\" class=\"data row0 col11\" >8</td>\n",
       "                        <td id=\"T_a12673ee_2a7d_11eb_88e8_bd7295bb9531row0_col12\" class=\"data row0 col12\" >1</td>\n",
       "                        <td id=\"T_a12673ee_2a7d_11eb_88e8_bd7295bb9531row0_col13\" class=\"data row0 col13\" >1</td>\n",
       "                        <td id=\"T_a12673ee_2a7d_11eb_88e8_bd7295bb9531row0_col14\" class=\"data row0 col14\" >8</td>\n",
       "                        <td id=\"T_a12673ee_2a7d_11eb_88e8_bd7295bb9531row0_col15\" class=\"data row0 col15\" >0</td>\n",
       "                        <td id=\"T_a12673ee_2a7d_11eb_88e8_bd7295bb9531row0_col16\" class=\"data row0 col16\" >1</td>\n",
       "                        <td id=\"T_a12673ee_2a7d_11eb_88e8_bd7295bb9531row0_col17\" class=\"data row0 col17\" >0</td>\n",
       "                        <td id=\"T_a12673ee_2a7d_11eb_88e8_bd7295bb9531row0_col18\" class=\"data row0 col18\" >0</td>\n",
       "                        <td id=\"T_a12673ee_2a7d_11eb_88e8_bd7295bb9531row0_col19\" class=\"data row0 col19\" >0</td>\n",
       "                        <td id=\"T_a12673ee_2a7d_11eb_88e8_bd7295bb9531row0_col20\" class=\"data row0 col20\" >0</td>\n",
       "                        <td id=\"T_a12673ee_2a7d_11eb_88e8_bd7295bb9531row0_col21\" class=\"data row0 col21\" >0</td>\n",
       "                        <td id=\"T_a12673ee_2a7d_11eb_88e8_bd7295bb9531row0_col22\" class=\"data row0 col22\" >0</td>\n",
       "                        <td id=\"T_a12673ee_2a7d_11eb_88e8_bd7295bb9531row0_col23\" class=\"data row0 col23\" >64</td>\n",
       "            </tr>\n",
       "            <tr>\n",
       "                                <th id=\"T_a12673ee_2a7d_11eb_88e8_bd7295bb9531level1_row1\" class=\"row_heading level1 row1\" >1</th>\n",
       "                        <td id=\"T_a12673ee_2a7d_11eb_88e8_bd7295bb9531row1_col0\" class=\"data row1 col0\" >0</td>\n",
       "                        <td id=\"T_a12673ee_2a7d_11eb_88e8_bd7295bb9531row1_col1\" class=\"data row1 col1\" >8</td>\n",
       "                        <td id=\"T_a12673ee_2a7d_11eb_88e8_bd7295bb9531row1_col2\" class=\"data row1 col2\" >11</td>\n",
       "                        <td id=\"T_a12673ee_2a7d_11eb_88e8_bd7295bb9531row1_col3\" class=\"data row1 col3\" >13</td>\n",
       "                        <td id=\"T_a12673ee_2a7d_11eb_88e8_bd7295bb9531row1_col4\" class=\"data row1 col4\" >8</td>\n",
       "                        <td id=\"T_a12673ee_2a7d_11eb_88e8_bd7295bb9531row1_col5\" class=\"data row1 col5\" >13</td>\n",
       "                        <td id=\"T_a12673ee_2a7d_11eb_88e8_bd7295bb9531row1_col6\" class=\"data row1 col6\" >20</td>\n",
       "                        <td id=\"T_a12673ee_2a7d_11eb_88e8_bd7295bb9531row1_col7\" class=\"data row1 col7\" >25</td>\n",
       "                        <td id=\"T_a12673ee_2a7d_11eb_88e8_bd7295bb9531row1_col8\" class=\"data row1 col8\" >16</td>\n",
       "                        <td id=\"T_a12673ee_2a7d_11eb_88e8_bd7295bb9531row1_col9\" class=\"data row1 col9\" >24</td>\n",
       "                        <td id=\"T_a12673ee_2a7d_11eb_88e8_bd7295bb9531row1_col10\" class=\"data row1 col10\" >16</td>\n",
       "                        <td id=\"T_a12673ee_2a7d_11eb_88e8_bd7295bb9531row1_col11\" class=\"data row1 col11\" >6</td>\n",
       "                        <td id=\"T_a12673ee_2a7d_11eb_88e8_bd7295bb9531row1_col12\" class=\"data row1 col12\" >12</td>\n",
       "                        <td id=\"T_a12673ee_2a7d_11eb_88e8_bd7295bb9531row1_col13\" class=\"data row1 col13\" >9</td>\n",
       "                        <td id=\"T_a12673ee_2a7d_11eb_88e8_bd7295bb9531row1_col14\" class=\"data row1 col14\" >0</td>\n",
       "                        <td id=\"T_a12673ee_2a7d_11eb_88e8_bd7295bb9531row1_col15\" class=\"data row1 col15\" >11</td>\n",
       "                        <td id=\"T_a12673ee_2a7d_11eb_88e8_bd7295bb9531row1_col16\" class=\"data row1 col16\" >2</td>\n",
       "                        <td id=\"T_a12673ee_2a7d_11eb_88e8_bd7295bb9531row1_col17\" class=\"data row1 col17\" >0</td>\n",
       "                        <td id=\"T_a12673ee_2a7d_11eb_88e8_bd7295bb9531row1_col18\" class=\"data row1 col18\" >2</td>\n",
       "                        <td id=\"T_a12673ee_2a7d_11eb_88e8_bd7295bb9531row1_col19\" class=\"data row1 col19\" >0</td>\n",
       "                        <td id=\"T_a12673ee_2a7d_11eb_88e8_bd7295bb9531row1_col20\" class=\"data row1 col20\" >1</td>\n",
       "                        <td id=\"T_a12673ee_2a7d_11eb_88e8_bd7295bb9531row1_col21\" class=\"data row1 col21\" >0</td>\n",
       "                        <td id=\"T_a12673ee_2a7d_11eb_88e8_bd7295bb9531row1_col22\" class=\"data row1 col22\" >0</td>\n",
       "                        <td id=\"T_a12673ee_2a7d_11eb_88e8_bd7295bb9531row1_col23\" class=\"data row1 col23\" >197</td>\n",
       "            </tr>\n",
       "            <tr>\n",
       "                        <th id=\"T_a12673ee_2a7d_11eb_88e8_bd7295bb9531level0_row2\" class=\"row_heading level0 row2\" rowspan=2>male</th>\n",
       "                        <th id=\"T_a12673ee_2a7d_11eb_88e8_bd7295bb9531level1_row2\" class=\"row_heading level1 row2\" >0</th>\n",
       "                        <td id=\"T_a12673ee_2a7d_11eb_88e8_bd7295bb9531row2_col0\" class=\"data row2 col0\" >0</td>\n",
       "                        <td id=\"T_a12673ee_2a7d_11eb_88e8_bd7295bb9531row2_col1\" class=\"data row2 col1\" >0</td>\n",
       "                        <td id=\"T_a12673ee_2a7d_11eb_88e8_bd7295bb9531row2_col2\" class=\"data row2 col2\" >14</td>\n",
       "                        <td id=\"T_a12673ee_2a7d_11eb_88e8_bd7295bb9531row2_col3\" class=\"data row2 col3\" >3</td>\n",
       "                        <td id=\"T_a12673ee_2a7d_11eb_88e8_bd7295bb9531row2_col4\" class=\"data row2 col4\" >9</td>\n",
       "                        <td id=\"T_a12673ee_2a7d_11eb_88e8_bd7295bb9531row2_col5\" class=\"data row2 col5\" >47</td>\n",
       "                        <td id=\"T_a12673ee_2a7d_11eb_88e8_bd7295bb9531row2_col6\" class=\"data row2 col6\" >10</td>\n",
       "                        <td id=\"T_a12673ee_2a7d_11eb_88e8_bd7295bb9531row2_col7\" class=\"data row2 col7\" >33</td>\n",
       "                        <td id=\"T_a12673ee_2a7d_11eb_88e8_bd7295bb9531row2_col8\" class=\"data row2 col8\" >83</td>\n",
       "                        <td id=\"T_a12673ee_2a7d_11eb_88e8_bd7295bb9531row2_col9\" class=\"data row2 col9\" >12</td>\n",
       "                        <td id=\"T_a12673ee_2a7d_11eb_88e8_bd7295bb9531row2_col10\" class=\"data row2 col10\" >23</td>\n",
       "                        <td id=\"T_a12673ee_2a7d_11eb_88e8_bd7295bb9531row2_col11\" class=\"data row2 col11\" >42</td>\n",
       "                        <td id=\"T_a12673ee_2a7d_11eb_88e8_bd7295bb9531row2_col12\" class=\"data row2 col12\" >15</td>\n",
       "                        <td id=\"T_a12673ee_2a7d_11eb_88e8_bd7295bb9531row2_col13\" class=\"data row2 col13\" >8</td>\n",
       "                        <td id=\"T_a12673ee_2a7d_11eb_88e8_bd7295bb9531row2_col14\" class=\"data row2 col14\" >20</td>\n",
       "                        <td id=\"T_a12673ee_2a7d_11eb_88e8_bd7295bb9531row2_col15\" class=\"data row2 col15\" >10</td>\n",
       "                        <td id=\"T_a12673ee_2a7d_11eb_88e8_bd7295bb9531row2_col16\" class=\"data row2 col16\" >9</td>\n",
       "                        <td id=\"T_a12673ee_2a7d_11eb_88e8_bd7295bb9531row2_col17\" class=\"data row2 col17\" >5</td>\n",
       "                        <td id=\"T_a12673ee_2a7d_11eb_88e8_bd7295bb9531row2_col18\" class=\"data row2 col18\" >9</td>\n",
       "                        <td id=\"T_a12673ee_2a7d_11eb_88e8_bd7295bb9531row2_col19\" class=\"data row2 col19\" >2</td>\n",
       "                        <td id=\"T_a12673ee_2a7d_11eb_88e8_bd7295bb9531row2_col20\" class=\"data row2 col20\" >2</td>\n",
       "                        <td id=\"T_a12673ee_2a7d_11eb_88e8_bd7295bb9531row2_col21\" class=\"data row2 col21\" >2</td>\n",
       "                        <td id=\"T_a12673ee_2a7d_11eb_88e8_bd7295bb9531row2_col22\" class=\"data row2 col22\" >2</td>\n",
       "                        <td id=\"T_a12673ee_2a7d_11eb_88e8_bd7295bb9531row2_col23\" class=\"data row2 col23\" >360</td>\n",
       "            </tr>\n",
       "            <tr>\n",
       "                                <th id=\"T_a12673ee_2a7d_11eb_88e8_bd7295bb9531level1_row3\" class=\"row_heading level1 row3\" >1</th>\n",
       "                        <td id=\"T_a12673ee_2a7d_11eb_88e8_bd7295bb9531row3_col0\" class=\"data row3 col0\" >2</td>\n",
       "                        <td id=\"T_a12673ee_2a7d_11eb_88e8_bd7295bb9531row3_col1\" class=\"data row3 col1\" >9</td>\n",
       "                        <td id=\"T_a12673ee_2a7d_11eb_88e8_bd7295bb9531row3_col2\" class=\"data row3 col2\" >8</td>\n",
       "                        <td id=\"T_a12673ee_2a7d_11eb_88e8_bd7295bb9531row3_col3\" class=\"data row3 col3\" >2</td>\n",
       "                        <td id=\"T_a12673ee_2a7d_11eb_88e8_bd7295bb9531row3_col4\" class=\"data row3 col4\" >1</td>\n",
       "                        <td id=\"T_a12673ee_2a7d_11eb_88e8_bd7295bb9531row3_col5\" class=\"data row3 col5\" >7</td>\n",
       "                        <td id=\"T_a12673ee_2a7d_11eb_88e8_bd7295bb9531row3_col6\" class=\"data row3 col6\" >9</td>\n",
       "                        <td id=\"T_a12673ee_2a7d_11eb_88e8_bd7295bb9531row3_col7\" class=\"data row3 col7\" >0</td>\n",
       "                        <td id=\"T_a12673ee_2a7d_11eb_88e8_bd7295bb9531row3_col8\" class=\"data row3 col8\" >14</td>\n",
       "                        <td id=\"T_a12673ee_2a7d_11eb_88e8_bd7295bb9531row3_col9\" class=\"data row3 col9\" >13</td>\n",
       "                        <td id=\"T_a12673ee_2a7d_11eb_88e8_bd7295bb9531row3_col10\" class=\"data row3 col10\" >3</td>\n",
       "                        <td id=\"T_a12673ee_2a7d_11eb_88e8_bd7295bb9531row3_col11\" class=\"data row3 col11\" >7</td>\n",
       "                        <td id=\"T_a12673ee_2a7d_11eb_88e8_bd7295bb9531row3_col12\" class=\"data row3 col12\" >9</td>\n",
       "                        <td id=\"T_a12673ee_2a7d_11eb_88e8_bd7295bb9531row3_col13\" class=\"data row3 col13\" >1</td>\n",
       "                        <td id=\"T_a12673ee_2a7d_11eb_88e8_bd7295bb9531row3_col14\" class=\"data row3 col14\" >2</td>\n",
       "                        <td id=\"T_a12673ee_2a7d_11eb_88e8_bd7295bb9531row3_col15\" class=\"data row3 col15\" >4</td>\n",
       "                        <td id=\"T_a12673ee_2a7d_11eb_88e8_bd7295bb9531row3_col16\" class=\"data row3 col16\" >0</td>\n",
       "                        <td id=\"T_a12673ee_2a7d_11eb_88e8_bd7295bb9531row3_col17\" class=\"data row3 col17\" >0</td>\n",
       "                        <td id=\"T_a12673ee_2a7d_11eb_88e8_bd7295bb9531row3_col18\" class=\"data row3 col18\" >0</td>\n",
       "                        <td id=\"T_a12673ee_2a7d_11eb_88e8_bd7295bb9531row3_col19\" class=\"data row3 col19\" >1</td>\n",
       "                        <td id=\"T_a12673ee_2a7d_11eb_88e8_bd7295bb9531row3_col20\" class=\"data row3 col20\" >0</td>\n",
       "                        <td id=\"T_a12673ee_2a7d_11eb_88e8_bd7295bb9531row3_col21\" class=\"data row3 col21\" >1</td>\n",
       "                        <td id=\"T_a12673ee_2a7d_11eb_88e8_bd7295bb9531row3_col22\" class=\"data row3 col22\" >0</td>\n",
       "                        <td id=\"T_a12673ee_2a7d_11eb_88e8_bd7295bb9531row3_col23\" class=\"data row3 col23\" >93</td>\n",
       "            </tr>\n",
       "            <tr>\n",
       "                        <th id=\"T_a12673ee_2a7d_11eb_88e8_bd7295bb9531level0_row4\" class=\"row_heading level0 row4\" >All</th>\n",
       "                        <th id=\"T_a12673ee_2a7d_11eb_88e8_bd7295bb9531level1_row4\" class=\"row_heading level1 row4\" ></th>\n",
       "                        <td id=\"T_a12673ee_2a7d_11eb_88e8_bd7295bb9531row4_col0\" class=\"data row4 col0\" >3</td>\n",
       "                        <td id=\"T_a12673ee_2a7d_11eb_88e8_bd7295bb9531row4_col1\" class=\"data row4 col1\" >17</td>\n",
       "                        <td id=\"T_a12673ee_2a7d_11eb_88e8_bd7295bb9531row4_col2\" class=\"data row4 col2\" >44</td>\n",
       "                        <td id=\"T_a12673ee_2a7d_11eb_88e8_bd7295bb9531row4_col3\" class=\"data row4 col3\" >18</td>\n",
       "                        <td id=\"T_a12673ee_2a7d_11eb_88e8_bd7295bb9531row4_col4\" class=\"data row4 col4\" >18</td>\n",
       "                        <td id=\"T_a12673ee_2a7d_11eb_88e8_bd7295bb9531row4_col5\" class=\"data row4 col5\" >79</td>\n",
       "                        <td id=\"T_a12673ee_2a7d_11eb_88e8_bd7295bb9531row4_col6\" class=\"data row4 col6\" >40</td>\n",
       "                        <td id=\"T_a12673ee_2a7d_11eb_88e8_bd7295bb9531row4_col7\" class=\"data row4 col7\" >61</td>\n",
       "                        <td id=\"T_a12673ee_2a7d_11eb_88e8_bd7295bb9531row4_col8\" class=\"data row4 col8\" >129</td>\n",
       "                        <td id=\"T_a12673ee_2a7d_11eb_88e8_bd7295bb9531row4_col9\" class=\"data row4 col9\" >49</td>\n",
       "                        <td id=\"T_a12673ee_2a7d_11eb_88e8_bd7295bb9531row4_col10\" class=\"data row4 col10\" >43</td>\n",
       "                        <td id=\"T_a12673ee_2a7d_11eb_88e8_bd7295bb9531row4_col11\" class=\"data row4 col11\" >63</td>\n",
       "                        <td id=\"T_a12673ee_2a7d_11eb_88e8_bd7295bb9531row4_col12\" class=\"data row4 col12\" >37</td>\n",
       "                        <td id=\"T_a12673ee_2a7d_11eb_88e8_bd7295bb9531row4_col13\" class=\"data row4 col13\" >19</td>\n",
       "                        <td id=\"T_a12673ee_2a7d_11eb_88e8_bd7295bb9531row4_col14\" class=\"data row4 col14\" >30</td>\n",
       "                        <td id=\"T_a12673ee_2a7d_11eb_88e8_bd7295bb9531row4_col15\" class=\"data row4 col15\" >25</td>\n",
       "                        <td id=\"T_a12673ee_2a7d_11eb_88e8_bd7295bb9531row4_col16\" class=\"data row4 col16\" >12</td>\n",
       "                        <td id=\"T_a12673ee_2a7d_11eb_88e8_bd7295bb9531row4_col17\" class=\"data row4 col17\" >5</td>\n",
       "                        <td id=\"T_a12673ee_2a7d_11eb_88e8_bd7295bb9531row4_col18\" class=\"data row4 col18\" >11</td>\n",
       "                        <td id=\"T_a12673ee_2a7d_11eb_88e8_bd7295bb9531row4_col19\" class=\"data row4 col19\" >3</td>\n",
       "                        <td id=\"T_a12673ee_2a7d_11eb_88e8_bd7295bb9531row4_col20\" class=\"data row4 col20\" >3</td>\n",
       "                        <td id=\"T_a12673ee_2a7d_11eb_88e8_bd7295bb9531row4_col21\" class=\"data row4 col21\" >3</td>\n",
       "                        <td id=\"T_a12673ee_2a7d_11eb_88e8_bd7295bb9531row4_col22\" class=\"data row4 col22\" >2</td>\n",
       "                        <td id=\"T_a12673ee_2a7d_11eb_88e8_bd7295bb9531row4_col23\" class=\"data row4 col23\" >714</td>\n",
       "            </tr>\n",
       "    </tbody></table>"
      ],
      "text/plain": [
       "<pandas.io.formats.style.Styler at 0x7eff1e3c83c8>"
      ]
     },
     "execution_count": 25,
     "metadata": {},
     "output_type": "execute_result"
    }
   ],
   "source": [
    "pd.crosstab([train_df.Sex, train_df.Survived], [train_df.Age_bin, train_df.Pclass], margins=True).style.background_gradient(cmap='autumn_r')"
   ]
  },
  {
   "cell_type": "code",
   "execution_count": 26,
   "metadata": {},
   "outputs": [
    {
     "data": {
      "image/png": "[encoded data removed]",
      "text/plain": [
       "<Figure size 1080x720 with 6 Axes>"
      ]
     },
     "metadata": {},
     "output_type": "display_data"
    }
   ],
   "source": [
    "sns.catplot('SibSp','Survived', col='Pclass' , row = 'Sex', kind='point', data=train_df);"
   ]
  },
  {
   "cell_type": "code",
   "execution_count": 27,
   "metadata": {},
   "outputs": [
    {
     "data": {
      "text/html": [
       "<style  type=\"text/css\" >\n",
       "#T_a20273b2_2a7d_11eb_88e8_bd7295bb9531row0_col0,#T_a20273b2_2a7d_11eb_88e8_bd7295bb9531row0_col1,#T_a20273b2_2a7d_11eb_88e8_bd7295bb9531row0_col2,#T_a20273b2_2a7d_11eb_88e8_bd7295bb9531row0_col3,#T_a20273b2_2a7d_11eb_88e8_bd7295bb9531row0_col4,#T_a20273b2_2a7d_11eb_88e8_bd7295bb9531row0_col6,#T_a20273b2_2a7d_11eb_88e8_bd7295bb9531row0_col7,#T_a20273b2_2a7d_11eb_88e8_bd7295bb9531row0_col9,#T_a20273b2_2a7d_11eb_88e8_bd7295bb9531row0_col10,#T_a20273b2_2a7d_11eb_88e8_bd7295bb9531row0_col15,#T_a20273b2_2a7d_11eb_88e8_bd7295bb9531row1_col13,#T_a20273b2_2a7d_11eb_88e8_bd7295bb9531row1_col14,#T_a20273b2_2a7d_11eb_88e8_bd7295bb9531row2_col10,#T_a20273b2_2a7d_11eb_88e8_bd7295bb9531row3_col5,#T_a20273b2_2a7d_11eb_88e8_bd7295bb9531row3_col8,#T_a20273b2_2a7d_11eb_88e8_bd7295bb9531row3_col9,#T_a20273b2_2a7d_11eb_88e8_bd7295bb9531row3_col10,#T_a20273b2_2a7d_11eb_88e8_bd7295bb9531row3_col11,#T_a20273b2_2a7d_11eb_88e8_bd7295bb9531row3_col12,#T_a20273b2_2a7d_11eb_88e8_bd7295bb9531row3_col13,#T_a20273b2_2a7d_11eb_88e8_bd7295bb9531row3_col14{\n",
       "            background-color:  #ffff00;\n",
       "            color:  #000000;\n",
       "        }#T_a20273b2_2a7d_11eb_88e8_bd7295bb9531row0_col5{\n",
       "            background-color:  #ffd900;\n",
       "            color:  #000000;\n",
       "        }#T_a20273b2_2a7d_11eb_88e8_bd7295bb9531row0_col8{\n",
       "            background-color:  #ffdb00;\n",
       "            color:  #000000;\n",
       "        }#T_a20273b2_2a7d_11eb_88e8_bd7295bb9531row0_col11{\n",
       "            background-color:  #ff6a00;\n",
       "            color:  #000000;\n",
       "        }#T_a20273b2_2a7d_11eb_88e8_bd7295bb9531row0_col12{\n",
       "            background-color:  #ffd200;\n",
       "            color:  #000000;\n",
       "        }#T_a20273b2_2a7d_11eb_88e8_bd7295bb9531row0_col13,#T_a20273b2_2a7d_11eb_88e8_bd7295bb9531row2_col3,#T_a20273b2_2a7d_11eb_88e8_bd7295bb9531row2_col6,#T_a20273b2_2a7d_11eb_88e8_bd7295bb9531row3_col6{\n",
       "            background-color:  #ffcc00;\n",
       "            color:  #000000;\n",
       "        }#T_a20273b2_2a7d_11eb_88e8_bd7295bb9531row0_col14,#T_a20273b2_2a7d_11eb_88e8_bd7295bb9531row2_col0,#T_a20273b2_2a7d_11eb_88e8_bd7295bb9531row2_col8{\n",
       "            background-color:  #ff9200;\n",
       "            color:  #000000;\n",
       "        }#T_a20273b2_2a7d_11eb_88e8_bd7295bb9531row1_col0{\n",
       "            background-color:  #ffa700;\n",
       "            color:  #000000;\n",
       "        }#T_a20273b2_2a7d_11eb_88e8_bd7295bb9531row1_col1,#T_a20273b2_2a7d_11eb_88e8_bd7295bb9531row2_col4{\n",
       "            background-color:  #ffac00;\n",
       "            color:  #000000;\n",
       "        }#T_a20273b2_2a7d_11eb_88e8_bd7295bb9531row1_col2{\n",
       "            background-color:  #fff300;\n",
       "            color:  #000000;\n",
       "        }#T_a20273b2_2a7d_11eb_88e8_bd7295bb9531row1_col3{\n",
       "            background-color:  #ff7a00;\n",
       "            color:  #000000;\n",
       "        }#T_a20273b2_2a7d_11eb_88e8_bd7295bb9531row1_col4{\n",
       "            background-color:  #ff9300;\n",
       "            color:  #000000;\n",
       "        }#T_a20273b2_2a7d_11eb_88e8_bd7295bb9531row1_col5{\n",
       "            background-color:  #ffe700;\n",
       "            color:  #000000;\n",
       "        }#T_a20273b2_2a7d_11eb_88e8_bd7295bb9531row1_col6{\n",
       "            background-color:  #ff6600;\n",
       "            color:  #000000;\n",
       "        }#T_a20273b2_2a7d_11eb_88e8_bd7295bb9531row1_col7{\n",
       "            background-color:  #ff9f00;\n",
       "            color:  #000000;\n",
       "        }#T_a20273b2_2a7d_11eb_88e8_bd7295bb9531row1_col8{\n",
       "            background-color:  #ffc900;\n",
       "            color:  #000000;\n",
       "        }#T_a20273b2_2a7d_11eb_88e8_bd7295bb9531row1_col9{\n",
       "            background-color:  #ff5500;\n",
       "            color:  #000000;\n",
       "        }#T_a20273b2_2a7d_11eb_88e8_bd7295bb9531row1_col10,#T_a20273b2_2a7d_11eb_88e8_bd7295bb9531row4_col0,#T_a20273b2_2a7d_11eb_88e8_bd7295bb9531row4_col1,#T_a20273b2_2a7d_11eb_88e8_bd7295bb9531row4_col2,#T_a20273b2_2a7d_11eb_88e8_bd7295bb9531row4_col3,#T_a20273b2_2a7d_11eb_88e8_bd7295bb9531row4_col4,#T_a20273b2_2a7d_11eb_88e8_bd7295bb9531row4_col5,#T_a20273b2_2a7d_11eb_88e8_bd7295bb9531row4_col6,#T_a20273b2_2a7d_11eb_88e8_bd7295bb9531row4_col7,#T_a20273b2_2a7d_11eb_88e8_bd7295bb9531row4_col8,#T_a20273b2_2a7d_11eb_88e8_bd7295bb9531row4_col9,#T_a20273b2_2a7d_11eb_88e8_bd7295bb9531row4_col10,#T_a20273b2_2a7d_11eb_88e8_bd7295bb9531row4_col11,#T_a20273b2_2a7d_11eb_88e8_bd7295bb9531row4_col12,#T_a20273b2_2a7d_11eb_88e8_bd7295bb9531row4_col13,#T_a20273b2_2a7d_11eb_88e8_bd7295bb9531row4_col14,#T_a20273b2_2a7d_11eb_88e8_bd7295bb9531row4_col15{\n",
       "            background-color:  #ff0000;\n",
       "            color:  #f1f1f1;\n",
       "        }#T_a20273b2_2a7d_11eb_88e8_bd7295bb9531row1_col11{\n",
       "            background-color:  #ffea00;\n",
       "            color:  #000000;\n",
       "        }#T_a20273b2_2a7d_11eb_88e8_bd7295bb9531row1_col12{\n",
       "            background-color:  #fff000;\n",
       "            color:  #000000;\n",
       "        }#T_a20273b2_2a7d_11eb_88e8_bd7295bb9531row1_col15,#T_a20273b2_2a7d_11eb_88e8_bd7295bb9531row3_col3{\n",
       "            background-color:  #ffcf00;\n",
       "            color:  #000000;\n",
       "        }#T_a20273b2_2a7d_11eb_88e8_bd7295bb9531row2_col1{\n",
       "            background-color:  #ff7300;\n",
       "            color:  #000000;\n",
       "        }#T_a20273b2_2a7d_11eb_88e8_bd7295bb9531row2_col2{\n",
       "            background-color:  #ff5d00;\n",
       "            color:  #000000;\n",
       "        }#T_a20273b2_2a7d_11eb_88e8_bd7295bb9531row2_col5{\n",
       "            background-color:  #ffa800;\n",
       "            color:  #000000;\n",
       "        }#T_a20273b2_2a7d_11eb_88e8_bd7295bb9531row2_col7{\n",
       "            background-color:  #ff7f00;\n",
       "            color:  #000000;\n",
       "        }#T_a20273b2_2a7d_11eb_88e8_bd7295bb9531row2_col9,#T_a20273b2_2a7d_11eb_88e8_bd7295bb9531row2_col11{\n",
       "            background-color:  #ffaa00;\n",
       "            color:  #000000;\n",
       "        }#T_a20273b2_2a7d_11eb_88e8_bd7295bb9531row2_col12{\n",
       "            background-color:  #ff6900;\n",
       "            color:  #000000;\n",
       "        }#T_a20273b2_2a7d_11eb_88e8_bd7295bb9531row2_col13{\n",
       "            background-color:  #ff3300;\n",
       "            color:  #f1f1f1;\n",
       "        }#T_a20273b2_2a7d_11eb_88e8_bd7295bb9531row2_col14{\n",
       "            background-color:  #ff6d00;\n",
       "            color:  #000000;\n",
       "        }#T_a20273b2_2a7d_11eb_88e8_bd7295bb9531row2_col15{\n",
       "            background-color:  #ff8500;\n",
       "            color:  #000000;\n",
       "        }#T_a20273b2_2a7d_11eb_88e8_bd7295bb9531row3_col0{\n",
       "            background-color:  #ffcb00;\n",
       "            color:  #000000;\n",
       "        }#T_a20273b2_2a7d_11eb_88e8_bd7295bb9531row3_col1{\n",
       "            background-color:  #fff200;\n",
       "            color:  #000000;\n",
       "        }#T_a20273b2_2a7d_11eb_88e8_bd7295bb9531row3_col2{\n",
       "            background-color:  #fffe00;\n",
       "            color:  #000000;\n",
       "        }#T_a20273b2_2a7d_11eb_88e8_bd7295bb9531row3_col4{\n",
       "            background-color:  #ffec00;\n",
       "            color:  #000000;\n",
       "        }#T_a20273b2_2a7d_11eb_88e8_bd7295bb9531row3_col7{\n",
       "            background-color:  #ffdf00;\n",
       "            color:  #000000;\n",
       "        }#T_a20273b2_2a7d_11eb_88e8_bd7295bb9531row3_col15{\n",
       "            background-color:  #fff700;\n",
       "            color:  #000000;\n",
       "        }</style><table id=\"T_a20273b2_2a7d_11eb_88e8_bd7295bb9531\" ><thead>    <tr>        <th class=\"blank\" ></th>        <th class=\"index_name level0\" >SibSp</th>        <th class=\"col_heading level0 col0\" colspan=3>0</th>        <th class=\"col_heading level0 col3\" colspan=3>1</th>        <th class=\"col_heading level0 col6\" colspan=3>2</th>        <th class=\"col_heading level0 col9\" colspan=3>3</th>        <th class=\"col_heading level0 col12\" >4</th>        <th class=\"col_heading level0 col13\" >5</th>        <th class=\"col_heading level0 col14\" >8</th>        <th class=\"col_heading level0 col15\" >All</th>    </tr>    <tr>        <th class=\"blank\" ></th>        <th class=\"index_name level1\" >Pclass</th>        <th class=\"col_heading level1 col0\" >1</th>        <th class=\"col_heading level1 col1\" >2</th>        <th class=\"col_heading level1 col2\" >3</th>        <th class=\"col_heading level1 col3\" >1</th>        <th class=\"col_heading level1 col4\" >2</th>        <th class=\"col_heading level1 col5\" >3</th>        <th class=\"col_heading level1 col6\" >1</th>        <th class=\"col_heading level1 col7\" >2</th>        <th class=\"col_heading level1 col8\" >3</th>        <th class=\"col_heading level1 col9\" >1</th>        <th class=\"col_heading level1 col10\" >2</th>        <th class=\"col_heading level1 col11\" >3</th>        <th class=\"col_heading level1 col12\" >3</th>        <th class=\"col_heading level1 col13\" >3</th>        <th class=\"col_heading level1 col14\" >3</th>        <th class=\"col_heading level1 col15\" ></th>    </tr>    <tr>        <th class=\"index_name level0\" >Sex</th>        <th class=\"index_name level1\" >Survived</th>        <th class=\"blank\" ></th>        <th class=\"blank\" ></th>        <th class=\"blank\" ></th>        <th class=\"blank\" ></th>        <th class=\"blank\" ></th>        <th class=\"blank\" ></th>        <th class=\"blank\" ></th>        <th class=\"blank\" ></th>        <th class=\"blank\" ></th>        <th class=\"blank\" ></th>        <th class=\"blank\" ></th>        <th class=\"blank\" ></th>        <th class=\"blank\" ></th>        <th class=\"blank\" ></th>        <th class=\"blank\" ></th>        <th class=\"blank\" ></th>    </tr></thead><tbody>\n",
       "                <tr>\n",
       "                        <th id=\"T_a20273b2_2a7d_11eb_88e8_bd7295bb9531level0_row0\" class=\"row_heading level0 row0\" rowspan=2>female</th>\n",
       "                        <th id=\"T_a20273b2_2a7d_11eb_88e8_bd7295bb9531level1_row0\" class=\"row_heading level1 row0\" >0</th>\n",
       "                        <td id=\"T_a20273b2_2a7d_11eb_88e8_bd7295bb9531row0_col0\" class=\"data row0 col0\" >1</td>\n",
       "                        <td id=\"T_a20273b2_2a7d_11eb_88e8_bd7295bb9531row0_col1\" class=\"data row0 col1\" >3</td>\n",
       "                        <td id=\"T_a20273b2_2a7d_11eb_88e8_bd7295bb9531row0_col2\" class=\"data row0 col2\" >33</td>\n",
       "                        <td id=\"T_a20273b2_2a7d_11eb_88e8_bd7295bb9531row0_col3\" class=\"data row0 col3\" >2</td>\n",
       "                        <td id=\"T_a20273b2_2a7d_11eb_88e8_bd7295bb9531row0_col4\" class=\"data row0 col4\" >3</td>\n",
       "                        <td id=\"T_a20273b2_2a7d_11eb_88e8_bd7295bb9531row0_col5\" class=\"data row0 col5\" >21</td>\n",
       "                        <td id=\"T_a20273b2_2a7d_11eb_88e8_bd7295bb9531row0_col6\" class=\"data row0 col6\" >0</td>\n",
       "                        <td id=\"T_a20273b2_2a7d_11eb_88e8_bd7295bb9531row0_col7\" class=\"data row0 col7\" >0</td>\n",
       "                        <td id=\"T_a20273b2_2a7d_11eb_88e8_bd7295bb9531row0_col8\" class=\"data row0 col8\" >3</td>\n",
       "                        <td id=\"T_a20273b2_2a7d_11eb_88e8_bd7295bb9531row0_col9\" class=\"data row0 col9\" >0</td>\n",
       "                        <td id=\"T_a20273b2_2a7d_11eb_88e8_bd7295bb9531row0_col10\" class=\"data row0 col10\" >0</td>\n",
       "                        <td id=\"T_a20273b2_2a7d_11eb_88e8_bd7295bb9531row0_col11\" class=\"data row0 col11\" >7</td>\n",
       "                        <td id=\"T_a20273b2_2a7d_11eb_88e8_bd7295bb9531row0_col12\" class=\"data row0 col12\" >4</td>\n",
       "                        <td id=\"T_a20273b2_2a7d_11eb_88e8_bd7295bb9531row0_col13\" class=\"data row0 col13\" >1</td>\n",
       "                        <td id=\"T_a20273b2_2a7d_11eb_88e8_bd7295bb9531row0_col14\" class=\"data row0 col14\" >3</td>\n",
       "                        <td id=\"T_a20273b2_2a7d_11eb_88e8_bd7295bb9531row0_col15\" class=\"data row0 col15\" >81</td>\n",
       "            </tr>\n",
       "            <tr>\n",
       "                                <th id=\"T_a20273b2_2a7d_11eb_88e8_bd7295bb9531level1_row1\" class=\"row_heading level1 row1\" >1</th>\n",
       "                        <td id=\"T_a20273b2_2a7d_11eb_88e8_bd7295bb9531row1_col0\" class=\"data row1 col0\" >48</td>\n",
       "                        <td id=\"T_a20273b2_2a7d_11eb_88e8_bd7295bb9531row1_col1\" class=\"data row1 col1\" >41</td>\n",
       "                        <td id=\"T_a20273b2_2a7d_11eb_88e8_bd7295bb9531row1_col2\" class=\"data row1 col2\" >48</td>\n",
       "                        <td id=\"T_a20273b2_2a7d_11eb_88e8_bd7295bb9531row1_col3\" class=\"data row1 col3\" >38</td>\n",
       "                        <td id=\"T_a20273b2_2a7d_11eb_88e8_bd7295bb9531row1_col4\" class=\"data row1 col4\" >25</td>\n",
       "                        <td id=\"T_a20273b2_2a7d_11eb_88e8_bd7295bb9531row1_col5\" class=\"data row1 col5\" >17</td>\n",
       "                        <td id=\"T_a20273b2_2a7d_11eb_88e8_bd7295bb9531row1_col6\" class=\"data row1 col6\" >3</td>\n",
       "                        <td id=\"T_a20273b2_2a7d_11eb_88e8_bd7295bb9531row1_col7\" class=\"data row1 col7\" >3</td>\n",
       "                        <td id=\"T_a20273b2_2a7d_11eb_88e8_bd7295bb9531row1_col8\" class=\"data row1 col8\" >4</td>\n",
       "                        <td id=\"T_a20273b2_2a7d_11eb_88e8_bd7295bb9531row1_col9\" class=\"data row1 col9\" >2</td>\n",
       "                        <td id=\"T_a20273b2_2a7d_11eb_88e8_bd7295bb9531row1_col10\" class=\"data row1 col10\" >1</td>\n",
       "                        <td id=\"T_a20273b2_2a7d_11eb_88e8_bd7295bb9531row1_col11\" class=\"data row1 col11\" >1</td>\n",
       "                        <td id=\"T_a20273b2_2a7d_11eb_88e8_bd7295bb9531row1_col12\" class=\"data row1 col12\" >2</td>\n",
       "                        <td id=\"T_a20273b2_2a7d_11eb_88e8_bd7295bb9531row1_col13\" class=\"data row1 col13\" >0</td>\n",
       "                        <td id=\"T_a20273b2_2a7d_11eb_88e8_bd7295bb9531row1_col14\" class=\"data row1 col14\" >0</td>\n",
       "                        <td id=\"T_a20273b2_2a7d_11eb_88e8_bd7295bb9531row1_col15\" class=\"data row1 col15\" >233</td>\n",
       "            </tr>\n",
       "            <tr>\n",
       "                        <th id=\"T_a20273b2_2a7d_11eb_88e8_bd7295bb9531level0_row2\" class=\"row_heading level0 row2\" rowspan=2>male</th>\n",
       "                        <th id=\"T_a20273b2_2a7d_11eb_88e8_bd7295bb9531level1_row2\" class=\"row_heading level1 row2\" >0</th>\n",
       "                        <td id=\"T_a20273b2_2a7d_11eb_88e8_bd7295bb9531row2_col0\" class=\"data row2 col0\" >59</td>\n",
       "                        <td id=\"T_a20273b2_2a7d_11eb_88e8_bd7295bb9531row2_col1\" class=\"data row2 col1\" >67</td>\n",
       "                        <td id=\"T_a20273b2_2a7d_11eb_88e8_bd7295bb9531row2_col2\" class=\"data row2 col2\" >235</td>\n",
       "                        <td id=\"T_a20273b2_2a7d_11eb_88e8_bd7295bb9531row2_col3\" class=\"data row2 col3\" >16</td>\n",
       "                        <td id=\"T_a20273b2_2a7d_11eb_88e8_bd7295bb9531row2_col4\" class=\"data row2 col4\" >20</td>\n",
       "                        <td id=\"T_a20273b2_2a7d_11eb_88e8_bd7295bb9531row2_col5\" class=\"data row2 col5\" >35</td>\n",
       "                        <td id=\"T_a20273b2_2a7d_11eb_88e8_bd7295bb9531row2_col6\" class=\"data row2 col6\" >1</td>\n",
       "                        <td id=\"T_a20273b2_2a7d_11eb_88e8_bd7295bb9531row2_col7\" class=\"data row2 col7\" >4</td>\n",
       "                        <td id=\"T_a20273b2_2a7d_11eb_88e8_bd7295bb9531row2_col8\" class=\"data row2 col8\" >7</td>\n",
       "                        <td id=\"T_a20273b2_2a7d_11eb_88e8_bd7295bb9531row2_col9\" class=\"data row2 col9\" >1</td>\n",
       "                        <td id=\"T_a20273b2_2a7d_11eb_88e8_bd7295bb9531row2_col10\" class=\"data row2 col10\" >0</td>\n",
       "                        <td id=\"T_a20273b2_2a7d_11eb_88e8_bd7295bb9531row2_col11\" class=\"data row2 col11\" >4</td>\n",
       "                        <td id=\"T_a20273b2_2a7d_11eb_88e8_bd7295bb9531row2_col12\" class=\"data row2 col12\" >11</td>\n",
       "                        <td id=\"T_a20273b2_2a7d_11eb_88e8_bd7295bb9531row2_col13\" class=\"data row2 col13\" >4</td>\n",
       "                        <td id=\"T_a20273b2_2a7d_11eb_88e8_bd7295bb9531row2_col14\" class=\"data row2 col14\" >4</td>\n",
       "                        <td id=\"T_a20273b2_2a7d_11eb_88e8_bd7295bb9531row2_col15\" class=\"data row2 col15\" >468</td>\n",
       "            </tr>\n",
       "            <tr>\n",
       "                                <th id=\"T_a20273b2_2a7d_11eb_88e8_bd7295bb9531level1_row3\" class=\"row_heading level1 row3\" >1</th>\n",
       "                        <td id=\"T_a20273b2_2a7d_11eb_88e8_bd7295bb9531row3_col0\" class=\"data row3 col0\" >29</td>\n",
       "                        <td id=\"T_a20273b2_2a7d_11eb_88e8_bd7295bb9531row3_col1\" class=\"data row3 col1\" >9</td>\n",
       "                        <td id=\"T_a20273b2_2a7d_11eb_88e8_bd7295bb9531row3_col2\" class=\"data row3 col2\" >35</td>\n",
       "                        <td id=\"T_a20273b2_2a7d_11eb_88e8_bd7295bb9531row3_col3\" class=\"data row3 col3\" >15</td>\n",
       "                        <td id=\"T_a20273b2_2a7d_11eb_88e8_bd7295bb9531row3_col4\" class=\"data row3 col4\" >7</td>\n",
       "                        <td id=\"T_a20273b2_2a7d_11eb_88e8_bd7295bb9531row3_col5\" class=\"data row3 col5\" >10</td>\n",
       "                        <td id=\"T_a20273b2_2a7d_11eb_88e8_bd7295bb9531row3_col6\" class=\"data row3 col6\" >1</td>\n",
       "                        <td id=\"T_a20273b2_2a7d_11eb_88e8_bd7295bb9531row3_col7\" class=\"data row3 col7\" >1</td>\n",
       "                        <td id=\"T_a20273b2_2a7d_11eb_88e8_bd7295bb9531row3_col8\" class=\"data row3 col8\" >1</td>\n",
       "                        <td id=\"T_a20273b2_2a7d_11eb_88e8_bd7295bb9531row3_col9\" class=\"data row3 col9\" >0</td>\n",
       "                        <td id=\"T_a20273b2_2a7d_11eb_88e8_bd7295bb9531row3_col10\" class=\"data row3 col10\" >0</td>\n",
       "                        <td id=\"T_a20273b2_2a7d_11eb_88e8_bd7295bb9531row3_col11\" class=\"data row3 col11\" >0</td>\n",
       "                        <td id=\"T_a20273b2_2a7d_11eb_88e8_bd7295bb9531row3_col12\" class=\"data row3 col12\" >1</td>\n",
       "                        <td id=\"T_a20273b2_2a7d_11eb_88e8_bd7295bb9531row3_col13\" class=\"data row3 col13\" >0</td>\n",
       "                        <td id=\"T_a20273b2_2a7d_11eb_88e8_bd7295bb9531row3_col14\" class=\"data row3 col14\" >0</td>\n",
       "                        <td id=\"T_a20273b2_2a7d_11eb_88e8_bd7295bb9531row3_col15\" class=\"data row3 col15\" >109</td>\n",
       "            </tr>\n",
       "            <tr>\n",
       "                        <th id=\"T_a20273b2_2a7d_11eb_88e8_bd7295bb9531level0_row4\" class=\"row_heading level0 row4\" >All</th>\n",
       "                        <th id=\"T_a20273b2_2a7d_11eb_88e8_bd7295bb9531level1_row4\" class=\"row_heading level1 row4\" ></th>\n",
       "                        <td id=\"T_a20273b2_2a7d_11eb_88e8_bd7295bb9531row4_col0\" class=\"data row4 col0\" >137</td>\n",
       "                        <td id=\"T_a20273b2_2a7d_11eb_88e8_bd7295bb9531row4_col1\" class=\"data row4 col1\" >120</td>\n",
       "                        <td id=\"T_a20273b2_2a7d_11eb_88e8_bd7295bb9531row4_col2\" class=\"data row4 col2\" >351</td>\n",
       "                        <td id=\"T_a20273b2_2a7d_11eb_88e8_bd7295bb9531row4_col3\" class=\"data row4 col3\" >71</td>\n",
       "                        <td id=\"T_a20273b2_2a7d_11eb_88e8_bd7295bb9531row4_col4\" class=\"data row4 col4\" >55</td>\n",
       "                        <td id=\"T_a20273b2_2a7d_11eb_88e8_bd7295bb9531row4_col5\" class=\"data row4 col5\" >83</td>\n",
       "                        <td id=\"T_a20273b2_2a7d_11eb_88e8_bd7295bb9531row4_col6\" class=\"data row4 col6\" >5</td>\n",
       "                        <td id=\"T_a20273b2_2a7d_11eb_88e8_bd7295bb9531row4_col7\" class=\"data row4 col7\" >8</td>\n",
       "                        <td id=\"T_a20273b2_2a7d_11eb_88e8_bd7295bb9531row4_col8\" class=\"data row4 col8\" >15</td>\n",
       "                        <td id=\"T_a20273b2_2a7d_11eb_88e8_bd7295bb9531row4_col9\" class=\"data row4 col9\" >3</td>\n",
       "                        <td id=\"T_a20273b2_2a7d_11eb_88e8_bd7295bb9531row4_col10\" class=\"data row4 col10\" >1</td>\n",
       "                        <td id=\"T_a20273b2_2a7d_11eb_88e8_bd7295bb9531row4_col11\" class=\"data row4 col11\" >12</td>\n",
       "                        <td id=\"T_a20273b2_2a7d_11eb_88e8_bd7295bb9531row4_col12\" class=\"data row4 col12\" >18</td>\n",
       "                        <td id=\"T_a20273b2_2a7d_11eb_88e8_bd7295bb9531row4_col13\" class=\"data row4 col13\" >5</td>\n",
       "                        <td id=\"T_a20273b2_2a7d_11eb_88e8_bd7295bb9531row4_col14\" class=\"data row4 col14\" >7</td>\n",
       "                        <td id=\"T_a20273b2_2a7d_11eb_88e8_bd7295bb9531row4_col15\" class=\"data row4 col15\" >891</td>\n",
       "            </tr>\n",
       "    </tbody></table>"
      ],
      "text/plain": [
       "<pandas.io.formats.style.Styler at 0x7eff1e618a58>"
      ]
     },
     "execution_count": 27,
     "metadata": {},
     "output_type": "execute_result"
    }
   ],
   "source": [
    "pd.crosstab([train_df.Sex, train_df.Survived], [train_df.SibSp, train_df.Pclass], margins=True).style.background_gradient(cmap='autumn_r')\n"
   ]
  },
  {
   "cell_type": "markdown",
   "metadata": {},
   "source": [
    "$\\textbf{Fare: continuous numerical to 12 bins}$"
   ]
  },
  {
   "cell_type": "code",
   "execution_count": 28,
   "metadata": {},
   "outputs": [
    {
     "data": {
      "image/png": "[encoded data removed]",
      "text/plain": [
       "<Figure size 432x288 with 1 Axes>"
      ]
     },
     "metadata": {},
     "output_type": "display_data"
    }
   ],
   "source": [
    "sns.distplot(train_df['Fare']);"
   ]
  },
  {
   "cell_type": "code",
   "execution_count": 29,
   "metadata": {},
   "outputs": [
    {
     "data": {
      "image/png": "[encoded data removed]",
      "text/plain": [
       "<Figure size 648x432 with 2 Axes>"
      ]
     },
     "metadata": {},
     "output_type": "display_data"
    }
   ],
   "source": [
    "# Correlation matrix\n",
    "corr = train_df.corr()\n",
    "mask_ut = np.triu(np.ones(corr.shape)).astype(np.bool) # create a mask\n",
    "\n",
    "f,ax = plt.subplots(figsize=(9,6))\n",
    "sns.heatmap(corr, annot = True, linewidths=1.5 , fmt = '.2f',ax=ax, mask = mask_ut)\n",
    "plt.show()"
   ]
  },
  {
   "cell_type": "markdown",
   "metadata": {},
   "source": [
    "## Preprocessing"
   ]
  },
  {
   "cell_type": "code",
   "execution_count": 30,
   "metadata": {},
   "outputs": [],
   "source": [
    "# First word is Last Name, so get it and make feature\n",
    "train_df['LastName'] = train_df['Name'].str.split(',', expand=True)[0]\n",
    "test_df['LastName'] = test_df['Name'].str.split(',', expand=True)[0]\n",
    "\n",
    "# Get one \"full\" dataset\n",
    "ds = pd.concat([train_df, test_df], sort = False)"
   ]
  },
  {
   "cell_type": "code",
   "execution_count": 31,
   "metadata": {},
   "outputs": [
    {
     "data": {
      "text/html": [
       "<div>\n",
       "<style scoped>\n",
       "    .dataframe tbody tr th:only-of-type {\n",
       "        vertical-align: middle;\n",
       "    }\n",
       "\n",
       "    .dataframe tbody tr th {\n",
       "        vertical-align: top;\n",
       "    }\n",
       "\n",
       "    .dataframe thead th {\n",
       "        text-align: right;\n",
       "    }\n",
       "</style>\n",
       "<table border=\"1\" class=\"dataframe\">\n",
       "  <thead>\n",
       "    <tr style=\"text-align: right;\">\n",
       "      <th></th>\n",
       "      <th>LastName</th>\n",
       "      <th>Survived</th>\n",
       "    </tr>\n",
       "  </thead>\n",
       "  <tbody>\n",
       "    <tr>\n",
       "      <th>435</th>\n",
       "      <td>Lehmann</td>\n",
       "      <td>1.0</td>\n",
       "    </tr>\n",
       "    <tr>\n",
       "      <th>287</th>\n",
       "      <td>Glynn</td>\n",
       "      <td>1.0</td>\n",
       "    </tr>\n",
       "    <tr>\n",
       "      <th>326</th>\n",
       "      <td>Hedman</td>\n",
       "      <td>1.0</td>\n",
       "    </tr>\n",
       "    <tr>\n",
       "      <th>325</th>\n",
       "      <td>Healy</td>\n",
       "      <td>1.0</td>\n",
       "    </tr>\n",
       "    <tr>\n",
       "      <th>323</th>\n",
       "      <td>Hays</td>\n",
       "      <td>1.0</td>\n",
       "    </tr>\n",
       "    <tr>\n",
       "      <th>322</th>\n",
       "      <td>Hawksford</td>\n",
       "      <td>1.0</td>\n",
       "    </tr>\n",
       "    <tr>\n",
       "      <th>320</th>\n",
       "      <td>Hassab</td>\n",
       "      <td>1.0</td>\n",
       "    </tr>\n",
       "    <tr>\n",
       "      <th>693</th>\n",
       "      <td>Ryerson</td>\n",
       "      <td>1.0</td>\n",
       "    </tr>\n",
       "    <tr>\n",
       "      <th>696</th>\n",
       "      <td>Saalfeld</td>\n",
       "      <td>1.0</td>\n",
       "    </tr>\n",
       "    <tr>\n",
       "      <th>312</th>\n",
       "      <td>Harder</td>\n",
       "      <td>1.0</td>\n",
       "    </tr>\n",
       "  </tbody>\n",
       "</table>\n",
       "</div>"
      ],
      "text/plain": [
       "      LastName  Survived\n",
       "435    Lehmann       1.0\n",
       "287      Glynn       1.0\n",
       "326     Hedman       1.0\n",
       "325      Healy       1.0\n",
       "323       Hays       1.0\n",
       "322  Hawksford       1.0\n",
       "320     Hassab       1.0\n",
       "693    Ryerson       1.0\n",
       "696   Saalfeld       1.0\n",
       "312     Harder       1.0"
      ]
     },
     "execution_count": 31,
     "metadata": {},
     "output_type": "execute_result"
    }
   ],
   "source": [
    "#Checking survival rate by LastName\n",
    "ds[['LastName', 'Survived']].groupby('LastName', as_index=False).mean().sort_values(by='Survived', ascending=False).head(10)"
   ]
  },
  {
   "cell_type": "code",
   "execution_count": 32,
   "metadata": {},
   "outputs": [],
   "source": [
    "#Creating two new features Family_died and FamilySuvived\n",
    "sur = list()\n",
    "died = list()\n",
    "\n",
    "for index, row in ds.iterrows():\n",
    "    s = ds[(ds['LastName']==row['LastName']) & (ds['Survived']==1)]\n",
    "    d = ds[(ds['LastName']==row['LastName']) & (ds['Survived']==0)]\n",
    "    s=len(s)\n",
    "    if row['Survived'] == 1:\n",
    "        s-=1\n",
    "    d=len(d)\n",
    "    if row['Survived'] == 0:\n",
    "        d-=1\n",
    "    sur.append(s)\n",
    "    died.append(d)\n",
    "ds['FamilySurvived'] = sur\n",
    "ds['FamilyDied'] = died"
   ]
  },
  {
   "cell_type": "code",
   "execution_count": 33,
   "metadata": {},
   "outputs": [],
   "source": [
    "# Dropping the Name and Last name\n",
    "ds=ds.drop(['Name','LastName', 'PassengerId'], axis=1)"
   ]
  },
  {
   "cell_type": "code",
   "execution_count": 34,
   "metadata": {},
   "outputs": [
    {
     "data": {
      "text/html": [
       "<div>\n",
       "<style scoped>\n",
       "    .dataframe tbody tr th:only-of-type {\n",
       "        vertical-align: middle;\n",
       "    }\n",
       "\n",
       "    .dataframe tbody tr th {\n",
       "        vertical-align: top;\n",
       "    }\n",
       "\n",
       "    .dataframe thead th {\n",
       "        text-align: right;\n",
       "    }\n",
       "</style>\n",
       "<table border=\"1\" class=\"dataframe\">\n",
       "  <thead>\n",
       "    <tr style=\"text-align: right;\">\n",
       "      <th></th>\n",
       "      <th>FamilySize</th>\n",
       "      <th>Survived</th>\n",
       "    </tr>\n",
       "  </thead>\n",
       "  <tbody>\n",
       "    <tr>\n",
       "      <th>3</th>\n",
       "      <td>4</td>\n",
       "      <td>0.724138</td>\n",
       "    </tr>\n",
       "    <tr>\n",
       "      <th>2</th>\n",
       "      <td>3</td>\n",
       "      <td>0.578431</td>\n",
       "    </tr>\n",
       "    <tr>\n",
       "      <th>1</th>\n",
       "      <td>2</td>\n",
       "      <td>0.552795</td>\n",
       "    </tr>\n",
       "    <tr>\n",
       "      <th>6</th>\n",
       "      <td>7</td>\n",
       "      <td>0.333333</td>\n",
       "    </tr>\n",
       "    <tr>\n",
       "      <th>0</th>\n",
       "      <td>1</td>\n",
       "      <td>0.303538</td>\n",
       "    </tr>\n",
       "    <tr>\n",
       "      <th>4</th>\n",
       "      <td>5</td>\n",
       "      <td>0.200000</td>\n",
       "    </tr>\n",
       "    <tr>\n",
       "      <th>5</th>\n",
       "      <td>6</td>\n",
       "      <td>0.136364</td>\n",
       "    </tr>\n",
       "    <tr>\n",
       "      <th>7</th>\n",
       "      <td>8</td>\n",
       "      <td>0.000000</td>\n",
       "    </tr>\n",
       "    <tr>\n",
       "      <th>8</th>\n",
       "      <td>11</td>\n",
       "      <td>0.000000</td>\n",
       "    </tr>\n",
       "  </tbody>\n",
       "</table>\n",
       "</div>"
      ],
      "text/plain": [
       "   FamilySize  Survived\n",
       "3           4  0.724138\n",
       "2           3  0.578431\n",
       "1           2  0.552795\n",
       "6           7  0.333333\n",
       "0           1  0.303538\n",
       "4           5  0.200000\n",
       "5           6  0.136364\n",
       "7           8  0.000000\n",
       "8          11  0.000000"
      ]
     },
     "execution_count": 34,
     "metadata": {},
     "output_type": "execute_result"
    }
   ],
   "source": [
    "#Creating new feature: Familysize\n",
    "ds['FamilySize'] = ds['SibSp'] + ds['Parch'] + 1\n",
    "    \n",
    "ds[['FamilySize', 'Survived']].groupby('FamilySize', as_index=False).mean().sort_values(by='Survived', ascending=False)"
   ]
  },
  {
   "cell_type": "code",
   "execution_count": 35,
   "metadata": {},
   "outputs": [],
   "source": [
    "# Bin the family sizes\n",
    "ds.loc[(ds['FamilySize']>1) & (ds['FamilySize']<=4), 'FamilySize'] = 0\n",
    "ds.loc[(ds['FamilySize']==7) & (ds['FamilySize']==1), 'FamilySize'] = 1\n",
    "ds.loc[(ds['FamilySize']==5) & (ds['FamilySize']==6), 'FamilySize'] = 2\n",
    "ds.loc[(ds['FamilySize']>=8), 'FamilySize'] = 3"
   ]
  },
  {
   "cell_type": "code",
   "execution_count": 36,
   "metadata": {},
   "outputs": [],
   "source": [
    "ds['IsAlone'] = 0\n",
    "ds.loc[ds['FamilySize'] == 1, 'IsAlone'] = 1"
   ]
  },
  {
   "cell_type": "code",
   "execution_count": 37,
   "metadata": {},
   "outputs": [
    {
     "data": {
      "text/plain": [
       "1"
      ]
     },
     "execution_count": 37,
     "metadata": {},
     "output_type": "execute_result"
    }
   ],
   "source": [
    "ds.Fare.isnull().sum()"
   ]
  },
  {
   "cell_type": "code",
   "execution_count": 38,
   "metadata": {},
   "outputs": [],
   "source": [
    "#Filling missing values by median - or should we actually do mode?\n",
    "ds['Fare'].fillna(ds['Fare'].dropna().median(), inplace=True)"
   ]
  },
  {
   "cell_type": "code",
   "execution_count": 39,
   "metadata": {},
   "outputs": [
    {
     "data": {
      "text/html": [
       "<div>\n",
       "<style scoped>\n",
       "    .dataframe tbody tr th:only-of-type {\n",
       "        vertical-align: middle;\n",
       "    }\n",
       "\n",
       "    .dataframe tbody tr th {\n",
       "        vertical-align: top;\n",
       "    }\n",
       "\n",
       "    .dataframe thead th {\n",
       "        text-align: right;\n",
       "    }\n",
       "</style>\n",
       "<table border=\"1\" class=\"dataframe\">\n",
       "  <thead>\n",
       "    <tr style=\"text-align: right;\">\n",
       "      <th></th>\n",
       "      <th>FareBand</th>\n",
       "      <th>Survived</th>\n",
       "    </tr>\n",
       "  </thead>\n",
       "  <tbody>\n",
       "    <tr>\n",
       "      <th>0</th>\n",
       "      <td>(-0.001, 7.896]</td>\n",
       "      <td>0.197309</td>\n",
       "    </tr>\n",
       "    <tr>\n",
       "      <th>1</th>\n",
       "      <td>(7.896, 14.454]</td>\n",
       "      <td>0.303571</td>\n",
       "    </tr>\n",
       "    <tr>\n",
       "      <th>2</th>\n",
       "      <td>(14.454, 31.275]</td>\n",
       "      <td>0.441048</td>\n",
       "    </tr>\n",
       "    <tr>\n",
       "      <th>3</th>\n",
       "      <td>(31.275, 512.329]</td>\n",
       "      <td>0.600000</td>\n",
       "    </tr>\n",
       "  </tbody>\n",
       "</table>\n",
       "</div>"
      ],
      "text/plain": [
       "            FareBand  Survived\n",
       "0    (-0.001, 7.896]  0.197309\n",
       "1    (7.896, 14.454]  0.303571\n",
       "2   (14.454, 31.275]  0.441048\n",
       "3  (31.275, 512.329]  0.600000"
      ]
     },
     "execution_count": 39,
     "metadata": {},
     "output_type": "execute_result"
    }
   ],
   "source": [
    "#Creating 4 groups of values by FareBand\n",
    "ds['FareBand']=pd.qcut(ds['Fare'], 4)\n",
    "ds[['FareBand', 'Survived']].groupby(['FareBand'], as_index=False).mean().sort_values(by='FareBand', ascending=True)"
   ]
  },
  {
   "cell_type": "code",
   "execution_count": 40,
   "metadata": {},
   "outputs": [],
   "source": [
    "#Mapping the Fare feature by FareBand\n",
    "ds.loc[ds['Fare']<= 7.89, 'Fare']=0\n",
    "ds.loc[(ds['Fare']>7.89) & (ds['Fare']<=14.454), 'Fare'] = 1\n",
    "ds.loc[(ds['Fare']>14.454) & (ds['Fare']<=31.27), 'Fare'] = 2\n",
    "ds.loc[ds['Fare']>31.27,'Fare'] = 3\n",
    "ds['Fare'] = ds['Fare'].astype(int)\n",
    "    \n",
    "ds=ds.drop('FareBand', axis=1)"
   ]
  },
  {
   "cell_type": "markdown",
   "metadata": {},
   "source": [
    "### Embarked"
   ]
  },
  {
   "cell_type": "code",
   "execution_count": 41,
   "metadata": {},
   "outputs": [
    {
     "data": {
      "text/plain": [
       "2"
      ]
     },
     "execution_count": 41,
     "metadata": {},
     "output_type": "execute_result"
    }
   ],
   "source": [
    "ds.Embarked.isnull().sum()"
   ]
  },
  {
   "cell_type": "code",
   "execution_count": 42,
   "metadata": {},
   "outputs": [],
   "source": [
    "#Filling missing values by most common\n",
    "freq_port = ds.Embarked.dropna().mode()[0]\n",
    "ds['Embarked'] = ds['Embarked'].fillna(freq_port)"
   ]
  },
  {
   "cell_type": "code",
   "execution_count": 43,
   "metadata": {},
   "outputs": [
    {
     "data": {
      "text/html": [
       "<div>\n",
       "<style scoped>\n",
       "    .dataframe tbody tr th:only-of-type {\n",
       "        vertical-align: middle;\n",
       "    }\n",
       "\n",
       "    .dataframe tbody tr th {\n",
       "        vertical-align: top;\n",
       "    }\n",
       "\n",
       "    .dataframe thead th {\n",
       "        text-align: right;\n",
       "    }\n",
       "</style>\n",
       "<table border=\"1\" class=\"dataframe\">\n",
       "  <thead>\n",
       "    <tr style=\"text-align: right;\">\n",
       "      <th></th>\n",
       "      <th>Embarked</th>\n",
       "      <th>Survived</th>\n",
       "    </tr>\n",
       "  </thead>\n",
       "  <tbody>\n",
       "    <tr>\n",
       "      <th>0</th>\n",
       "      <td>C</td>\n",
       "      <td>0.553571</td>\n",
       "    </tr>\n",
       "    <tr>\n",
       "      <th>1</th>\n",
       "      <td>Q</td>\n",
       "      <td>0.389610</td>\n",
       "    </tr>\n",
       "    <tr>\n",
       "      <th>2</th>\n",
       "      <td>S</td>\n",
       "      <td>0.339009</td>\n",
       "    </tr>\n",
       "  </tbody>\n",
       "</table>\n",
       "</div>"
      ],
      "text/plain": [
       "  Embarked  Survived\n",
       "0        C  0.553571\n",
       "1        Q  0.389610\n",
       "2        S  0.339009"
      ]
     },
     "execution_count": 43,
     "metadata": {},
     "output_type": "execute_result"
    }
   ],
   "source": [
    "# Percentage of survivors per port\n",
    "ds[['Embarked', 'Survived']].groupby(['Embarked'], as_index=False).mean().sort_values(by='Survived', ascending=False)"
   ]
  },
  {
   "cell_type": "code",
   "execution_count": 44,
   "metadata": {},
   "outputs": [],
   "source": [
    "# remap labels\n",
    "ds['Embarked'] = ds['Embarked'].map({'S':0, 'C':1, 'Q':2}).astype(int)"
   ]
  },
  {
   "cell_type": "markdown",
   "metadata": {},
   "source": [
    "### Ticket"
   ]
  },
  {
   "cell_type": "code",
   "execution_count": 45,
   "metadata": {},
   "outputs": [],
   "source": [
    "Ticket = []\n",
    "for i in list(ds.Ticket):\n",
    "    if not i.isdigit() :\n",
    "        Ticket.append(i.replace(\".\",\"\").replace(\"/\",\"\").strip().split(' ')[0]) #Take prefix\n",
    "    else:\n",
    "        Ticket.append(\"X\")\n",
    "        \n",
    "ds[\"Ticket\"] = Ticket"
   ]
  },
  {
   "cell_type": "code",
   "execution_count": 46,
   "metadata": {},
   "outputs": [],
   "source": [
    "label_encoder = preprocessing.LabelEncoder()\n",
    "ds.Ticket= label_encoder.fit_transform(ds.Ticket) "
   ]
  },
  {
   "cell_type": "code",
   "execution_count": 47,
   "metadata": {},
   "outputs": [],
   "source": [
    "train = ds[ds['Survived'].notnull()]\n",
    "test = ds[ds['Survived'].isnull()]\n",
    "test = test.drop(['Survived'], axis=1)"
   ]
  },
  {
   "cell_type": "markdown",
   "metadata": {},
   "source": [
    "### Rich / Poor by class"
   ]
  },
  {
   "cell_type": "code",
   "execution_count": 48,
   "metadata": {},
   "outputs": [
    {
     "data": {
      "text/html": [
       "<div>\n",
       "<style scoped>\n",
       "    .dataframe tbody tr th:only-of-type {\n",
       "        vertical-align: middle;\n",
       "    }\n",
       "\n",
       "    .dataframe tbody tr th {\n",
       "        vertical-align: top;\n",
       "    }\n",
       "\n",
       "    .dataframe thead th {\n",
       "        text-align: right;\n",
       "    }\n",
       "</style>\n",
       "<table border=\"1\" class=\"dataframe\">\n",
       "  <thead>\n",
       "    <tr style=\"text-align: right;\">\n",
       "      <th></th>\n",
       "      <th>Pclass</th>\n",
       "      <th>Sex</th>\n",
       "      <th>Survived</th>\n",
       "    </tr>\n",
       "  </thead>\n",
       "  <tbody>\n",
       "    <tr>\n",
       "      <th>0</th>\n",
       "      <td>1</td>\n",
       "      <td>female</td>\n",
       "      <td>0.968085</td>\n",
       "    </tr>\n",
       "    <tr>\n",
       "      <th>2</th>\n",
       "      <td>2</td>\n",
       "      <td>female</td>\n",
       "      <td>0.921053</td>\n",
       "    </tr>\n",
       "    <tr>\n",
       "      <th>4</th>\n",
       "      <td>3</td>\n",
       "      <td>female</td>\n",
       "      <td>0.500000</td>\n",
       "    </tr>\n",
       "    <tr>\n",
       "      <th>1</th>\n",
       "      <td>1</td>\n",
       "      <td>male</td>\n",
       "      <td>0.368852</td>\n",
       "    </tr>\n",
       "    <tr>\n",
       "      <th>3</th>\n",
       "      <td>2</td>\n",
       "      <td>male</td>\n",
       "      <td>0.157407</td>\n",
       "    </tr>\n",
       "    <tr>\n",
       "      <th>5</th>\n",
       "      <td>3</td>\n",
       "      <td>male</td>\n",
       "      <td>0.135447</td>\n",
       "    </tr>\n",
       "  </tbody>\n",
       "</table>\n",
       "</div>"
      ],
      "text/plain": [
       "   Pclass     Sex  Survived\n",
       "0       1  female  0.968085\n",
       "2       2  female  0.921053\n",
       "4       3  female  0.500000\n",
       "1       1    male  0.368852\n",
       "3       2    male  0.157407\n",
       "5       3    male  0.135447"
      ]
     },
     "execution_count": 48,
     "metadata": {},
     "output_type": "execute_result"
    }
   ],
   "source": [
    "train[['Pclass', 'Survived', 'Sex']].groupby(['Pclass', 'Sex'], as_index=False).mean().sort_values(by='Survived', ascending=False)"
   ]
  },
  {
   "cell_type": "code",
   "execution_count": 49,
   "metadata": {},
   "outputs": [],
   "source": [
    "#Creating features in both datasets \n",
    "train['rich_woman'] = 0\n",
    "test['rich_woman'] = 0\n",
    "train['poor_man'] = 0\n",
    "test['poor_man'] = 0"
   ]
  },
  {
   "cell_type": "code",
   "execution_count": 50,
   "metadata": {},
   "outputs": [],
   "source": [
    "train.loc[(train['Pclass']<=2) & (train['Sex']=='female'), 'rich_woman'] = 1\n",
    "test.loc[(test['Pclass']<=2) & (test['Sex']=='female'), 'rich_woman'] = 1\n",
    "train.loc[(train['Pclass']>=2) & (train['Sex']=='male'), 'poor_man'] = 1\n",
    "test.loc[(test['Pclass']>=2) & (test['Sex']=='male'), 'poor_man'] = 1"
   ]
  },
  {
   "cell_type": "markdown",
   "metadata": {},
   "source": [
    "### Cabin"
   ]
  },
  {
   "cell_type": "code",
   "execution_count": 51,
   "metadata": {},
   "outputs": [],
   "source": [
    "# Indicate location of cabin in titanic\n",
    "train[\"Cabin\"] = pd.Series([i[0] if not pd.isnull(i) else 'X' for i in train['Cabin']])\n",
    "test['Cabin'] = pd.Series([i[0] if not pd.isnull(i) else 'X' for i in test['Cabin']])"
   ]
  },
  {
   "cell_type": "code",
   "execution_count": 52,
   "metadata": {},
   "outputs": [],
   "source": [
    "# Remap labels\n",
    "cabin_dict={'X':0, 'C':1, 'E':2, 'G':3, 'D':4, 'A':5, 'B':6, 'F':7, 'T':6}\n",
    "train['Cabin'] = train['Cabin'].map(cabin_dict)\n",
    "test['Cabin'] = test['Cabin'].map(cabin_dict)"
   ]
  },
  {
   "cell_type": "code",
   "execution_count": 53,
   "metadata": {},
   "outputs": [],
   "source": [
    "train = train.drop(['Ticket'], axis=1)\n",
    "test = test.drop(['Ticket'], axis=1)"
   ]
  },
  {
   "cell_type": "markdown",
   "metadata": {},
   "source": [
    "### Sex"
   ]
  },
  {
   "cell_type": "code",
   "execution_count": 54,
   "metadata": {},
   "outputs": [],
   "source": [
    "# Remap sex\n",
    "train['Sex'] = train['Sex'].map( {'female': 1, 'male': 0} )\n",
    "test['Sex'] = test['Sex'].map( {'female': 1, 'male': 0} )"
   ]
  },
  {
   "cell_type": "markdown",
   "metadata": {},
   "source": [
    "### Age"
   ]
  },
  {
   "cell_type": "code",
   "execution_count": 55,
   "metadata": {},
   "outputs": [
    {
     "data": {
      "text/plain": [
       "(177, 86)"
      ]
     },
     "execution_count": 55,
     "metadata": {},
     "output_type": "execute_result"
    }
   ],
   "source": [
    "train.Age.isnull().sum(), test.Age.isnull().sum()"
   ]
  },
  {
   "cell_type": "code",
   "execution_count": 56,
   "metadata": {},
   "outputs": [],
   "source": [
    "index_NaN_age = list(train[\"Age\"][train[\"Age\"].isnull()].index)\n",
    "\n",
    "for i in index_NaN_age :\n",
    "    age_med = train[\"Age\"].median()\n",
    "    age_pred = train[\"Age\"][((train['SibSp'] == train.iloc[i][\"SibSp\"]) & (train['Parch'] == train.iloc[i][\"Parch\"]) & (train['Pclass'] == train.iloc[i][\"Pclass\"]))].median()\n",
    "    if not np.isnan(age_pred) :\n",
    "        train['Age'].iloc[i] = age_pred\n",
    "    else :\n",
    "        train['Age'].iloc[i] = age_med\n",
    "\n",
    "index_NaN_age = list(test[\"Age\"][test[\"Age\"].isnull()].index)\n",
    "\n",
    "for i in index_NaN_age :\n",
    "    age_med = test[\"Age\"].median()\n",
    "    age_pred = test[\"Age\"][((test['SibSp'] == test.iloc[i][\"SibSp\"]) & (test['Parch'] == test.iloc[i][\"Parch\"]) & (test['Pclass'] == test.iloc[i][\"Pclass\"]))].median()\n",
    "    if not np.isnan(age_pred) :\n",
    "        test['Age'].iloc[i] = age_pred\n",
    "    else :\n",
    "        test['Age'].iloc[i] = age_med "
   ]
  },
  {
   "cell_type": "code",
   "execution_count": 57,
   "metadata": {},
   "outputs": [],
   "source": [
    "#deleting useless features\n",
    "train = train.drop(['Parch', 'SibSp'], axis=1)\n",
    "test = test.drop(['Parch', 'SibSp'], axis=1)"
   ]
  },
  {
   "cell_type": "code",
   "execution_count": 58,
   "metadata": {},
   "outputs": [
    {
     "data": {
      "text/html": [
       "<div>\n",
       "<style scoped>\n",
       "    .dataframe tbody tr th:only-of-type {\n",
       "        vertical-align: middle;\n",
       "    }\n",
       "\n",
       "    .dataframe tbody tr th {\n",
       "        vertical-align: top;\n",
       "    }\n",
       "\n",
       "    .dataframe thead th {\n",
       "        text-align: right;\n",
       "    }\n",
       "</style>\n",
       "<table border=\"1\" class=\"dataframe\">\n",
       "  <thead>\n",
       "    <tr style=\"text-align: right;\">\n",
       "      <th></th>\n",
       "      <th>AgeBand</th>\n",
       "      <th>Survived</th>\n",
       "    </tr>\n",
       "  </thead>\n",
       "  <tbody>\n",
       "    <tr>\n",
       "      <th>0</th>\n",
       "      <td>(0.34, 16.336]</td>\n",
       "      <td>0.518868</td>\n",
       "    </tr>\n",
       "    <tr>\n",
       "      <th>1</th>\n",
       "      <td>(16.336, 32.252]</td>\n",
       "      <td>0.340862</td>\n",
       "    </tr>\n",
       "    <tr>\n",
       "      <th>2</th>\n",
       "      <td>(32.252, 48.168]</td>\n",
       "      <td>0.412844</td>\n",
       "    </tr>\n",
       "    <tr>\n",
       "      <th>3</th>\n",
       "      <td>(48.168, 64.084]</td>\n",
       "      <td>0.434783</td>\n",
       "    </tr>\n",
       "    <tr>\n",
       "      <th>4</th>\n",
       "      <td>(64.084, 80.0]</td>\n",
       "      <td>0.090909</td>\n",
       "    </tr>\n",
       "  </tbody>\n",
       "</table>\n",
       "</div>"
      ],
      "text/plain": [
       "            AgeBand  Survived\n",
       "0    (0.34, 16.336]  0.518868\n",
       "1  (16.336, 32.252]  0.340862\n",
       "2  (32.252, 48.168]  0.412844\n",
       "3  (48.168, 64.084]  0.434783\n",
       "4    (64.084, 80.0]  0.090909"
      ]
     },
     "execution_count": 58,
     "metadata": {},
     "output_type": "execute_result"
    }
   ],
   "source": [
    "#Creating a new feature AgeBand\n",
    "train['AgeBand'] = pd.cut(train['Age'], 5)\n",
    "train[['AgeBand', 'Survived']].groupby(['AgeBand'], as_index=False).mean().sort_values(by='AgeBand', ascending=True)"
   ]
  },
  {
   "cell_type": "code",
   "execution_count": 59,
   "metadata": {},
   "outputs": [],
   "source": [
    "combine2=[train, test]\n",
    "for dataset in combine2:\n",
    "    dataset.loc[dataset['Age']<=16, 'Age'] = 0\n",
    "    dataset.loc[(dataset['Age']>16) & (dataset['Age']<32), 'Age'] = 1\n",
    "    dataset.loc[(dataset['Age']>32) & (dataset['Age']<48), 'Age'] = 2\n",
    "    dataset.loc[(dataset['Age']>48) & (dataset['Age']<64), 'Age'] = 3\n",
    "    dataset.loc[dataset['Age']>64, 'Age'] = 4\n",
    "\n",
    "train = train.drop(['AgeBand'], axis=1)"
   ]
  },
  {
   "cell_type": "markdown",
   "metadata": {},
   "source": [
    "## Models"
   ]
  },
  {
   "cell_type": "markdown",
   "metadata": {},
   "source": [
    "### Random Forests"
   ]
  },
  {
   "cell_type": "code",
   "execution_count": 60,
   "metadata": {},
   "outputs": [
    {
     "data": {
      "text/plain": [
       "((891, 12), (418, 12), (891,), (418, 13))"
      ]
     },
     "execution_count": 60,
     "metadata": {},
     "output_type": "execute_result"
    }
   ],
   "source": [
    "X_train = train.drop([\"Survived\",\"Age_bin\"], axis=1)\n",
    "Y_train = train[\"Survived\"]\n",
    "X_test  = test.copy()\n",
    "X_test.drop('Age_bin', axis=1, inplace=True)\n",
    "X_train.shape, X_test.shape, Y_train.shape, test.shape"
   ]
  },
  {
   "cell_type": "code",
   "execution_count": 61,
   "metadata": {},
   "outputs": [
    {
     "data": {
      "text/plain": [
       "92.37"
      ]
     },
     "execution_count": 61,
     "metadata": {},
     "output_type": "execute_result"
    }
   ],
   "source": [
    "random_forest = RandomForestClassifier()\n",
    "random_forest.fit(X_train, Y_train)\n",
    "Y_pred = random_forest.predict(X_test)\n",
    "random_forest.score(X_train, Y_train)\n",
    "acc_random_forest = round(random_forest.score(X_train, Y_train) * 100, 2)\n",
    "acc_random_forest"
   ]
  },
  {
   "cell_type": "code",
   "execution_count": 62,
   "metadata": {},
   "outputs": [
    {
     "data": {
      "text/plain": [
       "84.74"
      ]
     },
     "execution_count": 62,
     "metadata": {},
     "output_type": "execute_result"
    }
   ],
   "source": [
    "rfc6 = RandomForestClassifier(n_estimators= 40, criterion= 'entropy', max_depth= 11, min_samples_split= 15,  min_samples_leaf= 9, \n",
    "                             max_features= 'sqrt', bootstrap= 'True', random_state=42)\n",
    "rfc6.fit(X_train, Y_train)\n",
    "Y_pred = rfc6.predict(X_test)\n",
    "rfc6.score(X_train, Y_train)\n",
    "acc_rfc6 = round(rfc6.score(X_train, Y_train) * 100, 2)\n",
    "acc_rfc6"
   ]
  },
  {
   "cell_type": "markdown",
   "metadata": {},
   "source": [
    "### Neural Networks"
   ]
  },
  {
   "cell_type": "code",
   "execution_count": 63,
   "metadata": {},
   "outputs": [],
   "source": [
    "# Also get validation set\n",
    "X_train, X_val, y_train, y_val = train_test_split(X_train, Y_train, test_size=0.2, random_state=42)"
   ]
  },
  {
   "cell_type": "code",
   "execution_count": 92,
   "metadata": {},
   "outputs": [
    {
     "data": {
      "text/plain": [
       "Net(\n",
       "  (fc1): Linear(in_features=12, out_features=256, bias=True)\n",
       "  (fc2): Linear(in_features=256, out_features=128, bias=True)\n",
       "  (fc3): Linear(in_features=128, out_features=64, bias=True)\n",
       "  (fc4): Linear(in_features=64, out_features=32, bias=True)\n",
       "  (fc5): Linear(in_features=32, out_features=1, bias=True)\n",
       "  (dropout): Dropout(p=0, inplace=False)\n",
       ")"
      ]
     },
     "execution_count": 92,
     "metadata": {},
     "output_type": "execute_result"
    }
   ],
   "source": [
    "import torch\n",
    "import torch.nn as nn\n",
    "import torch.nn.functional as F\n",
    "\n",
    "class Net(nn.Module):\n",
    "    def __init__(self):\n",
    "        super(Net, self).__init__()\n",
    "        \n",
    "        self.fc1 = nn.Linear(12, 256)\n",
    "        self.fc2 = nn.Linear(256, 128)\n",
    "        self.fc3 = nn.Linear(128, 64)\n",
    "        self.fc4 = nn.Linear(64,32)\n",
    "        self.fc5 = nn.Linear(32,1)\n",
    "        self.dropout = nn.Dropout(p=0)\n",
    "\n",
    "    def forward(self, x):\n",
    "\n",
    "        x = F.relu(self.fc1(x))\n",
    "        x = self.dropout(F.relu(self.fc2(x)))\n",
    "        x = self.dropout(F.relu(self.fc3(x)))\n",
    "        x = self.dropout(F.relu(self.fc4(x)))\n",
    "        x = self.fc5(x)\n",
    "        #x = F.sigmoid(x)\n",
    "        return x\n",
    "\n",
    "net = Net()\n",
    "net.float()"
   ]
  },
  {
   "cell_type": "code",
   "execution_count": 93,
   "metadata": {},
   "outputs": [],
   "source": [
    "import torch.optim as optim\n",
    "\n",
    "# Optimization and loss\n",
    "#criterion = nn.BCELoss()\n",
    "#criterion = nn.CrossEntropyLoss()\n",
    "criterion = nn.BCEWithLogitsLoss()\n",
    "#criterion = nn.MSELoss()\n",
    "optimizer = optim.Adam(net.parameters(), lr=0.01)"
   ]
  },
  {
   "cell_type": "code",
   "execution_count": 94,
   "metadata": {},
   "outputs": [],
   "source": [
    "def val_acc():\n",
    "    total = 0\n",
    "    for i in range(len(X_val)):\n",
    "        inputs = X_val.iloc[i,:].values\n",
    "        labels = y_val.iloc[i]\n",
    "        \n",
    "        inputs = torch.tensor(inputs).float()\n",
    "        labels = torch.tensor(labels).unsqueeze(0).float()\n",
    "        \n",
    "        outputs = F.sigmoid(net(inputs))\n",
    "        preds = torch.round(outputs)\n",
    "        \n",
    "        if preds == labels:\n",
    "            total += 1\n",
    "            \n",
    "    return total / len(X_val)"
   ]
  },
  {
   "cell_type": "code",
   "execution_count": 95,
   "metadata": {},
   "outputs": [
    {
     "name": "stdout",
     "output_type": "stream",
     "text": [
      "<bound method Module.parameters of Net(\n",
      "  (fc1): Linear(in_features=12, out_features=256, bias=True)\n",
      "  (fc2): Linear(in_features=256, out_features=128, bias=True)\n",
      "  (fc3): Linear(in_features=128, out_features=64, bias=True)\n",
      "  (fc4): Linear(in_features=64, out_features=32, bias=True)\n",
      "  (fc5): Linear(in_features=32, out_features=1, bias=True)\n",
      "  (dropout): Dropout(p=0, inplace=False)\n",
      ")>\n"
     ]
    }
   ],
   "source": [
    "# Hyperparameters\n",
    "num_epochs = 10\n",
    "print(net.parameters)"
   ]
  },
  {
   "cell_type": "code",
   "execution_count": 96,
   "metadata": {
    "scrolled": true
   },
   "outputs": [
    {
     "name": "stdout",
     "output_type": "stream",
     "text": [
      "Finished Training\n",
      "Validation Accuracy:  0.8324022346368715\n"
     ]
    }
   ],
   "source": [
    "# Main training loop\n",
    "\n",
    "losses = []\n",
    "accs   = []\n",
    "\n",
    "for epoch in range(num_epochs):\n",
    "    running_loss = 0.0\n",
    "    \n",
    "    for i in range(len(X_train)):\n",
    "        # Empty the gradient buffer and get new data\n",
    "        optimizer.zero_grad()\n",
    "        inputs = X_train.iloc[i,:].values\n",
    "        labels = y_train.iloc[i]\n",
    "        \n",
    "        # Turn into tensors\n",
    "        inputs = torch.tensor(inputs, requires_grad=True)\n",
    "        inputs = inputs.float()\n",
    "        labels = torch.tensor(labels)\n",
    "        labels = labels.unsqueeze(0).float()\n",
    "        \n",
    "        # Forward pass and loss calculation\n",
    "        outputs = net(inputs)\n",
    "        loss = criterion(outputs, labels)\n",
    "        loss.backward()\n",
    "        optimizer.step()\n",
    "        running_loss += loss.item()\n",
    "        \n",
    "        if i % 10 == 0:\n",
    "            val_acc_100 = val_acc()\n",
    "            #print(val_acc)\n",
    "            accs.append(val_acc_100)\n",
    "        \n",
    "        #print(net.fc1.weight)\n",
    "#         if i % 100 == 99:    # print every 100 examples\n",
    "#             print('[%d, %5d] loss: %.3f' % (epoch + 1, i + 1, running_loss / 2000))\n",
    "#             running_loss = 0.0\n",
    "            \n",
    "print('Finished Training')\n",
    "print(\"Validation Accuracy: \", val_acc())"
   ]
  },
  {
   "cell_type": "code",
   "execution_count": 97,
   "metadata": {},
   "outputs": [
    {
     "data": {
      "text/plain": [
       "[<matplotlib.lines.Line2D at 0x7eff1e008c50>]"
      ]
     },
     "execution_count": 97,
     "metadata": {},
     "output_type": "execute_result"
    },
    {
     "data": {
      "image/png": "[encoded data removed]",
      "text/plain": [
       "<Figure size 432x288 with 1 Axes>"
      ]
     },
     "metadata": {},
     "output_type": "display_data"
    }
   ],
   "source": [
    "plt.plot(accs)"
   ]
  },
  {
   "cell_type": "code",
   "execution_count": 103,
   "metadata": {},
   "outputs": [],
   "source": [
    "# Fetch predictions from NN\n",
    "def fetch_preds():\n",
    "    final_preds = []\n",
    "    for i in range(len(X_test)):\n",
    "        inputs = X_test.iloc[i,:].values\n",
    "        inputs = torch.tensor(inputs).float()\n",
    "        \n",
    "        outputs = F.sigmoid(net(inputs))\n",
    "        preds = torch.round(outputs)\n",
    "        \n",
    "        final_preds.append(preds)\n",
    "        \n",
    "    return np.array(final_preds)"
   ]
  },
  {
   "cell_type": "code",
   "execution_count": 104,
   "metadata": {},
   "outputs": [],
   "source": [
    "Y_pred = fetch_preds()"
   ]
  },
  {
   "cell_type": "markdown",
   "metadata": {},
   "source": [
    "## Submission"
   ]
  },
  {
   "cell_type": "code",
   "execution_count": 105,
   "metadata": {},
   "outputs": [
    {
     "name": "stdout",
     "output_type": "stream",
     "text": [
      "Your submission was successfully saved!\n"
     ]
    }
   ],
   "source": [
    "output = pd.DataFrame({'PassengerId': PassengerId, 'Survived': Y_pred.astype(int)})\n",
    "output.to_csv('my_submission.csv', index=False)\n",
    "print(\"Your submission was successfully saved!\")"
   ]
  },
  {
   "cell_type": "code",
   "execution_count": null,
   "metadata": {},
   "outputs": [],
   "source": []
  }
 ],
 "metadata": {
  "kernelspec": {
   "display_name": "Python 3",
   "language": "python",
   "name": "python3"
  },
  "language_info": {
   "codemirror_mode": {
    "name": "ipython",
    "version": 3
   },
   "file_extension": ".py",
   "mimetype": "text/x-python",
   "name": "python",
   "nbconvert_exporter": "python",
   "pygments_lexer": "ipython3",
   "version": "3.6.9"
  }
 },
 "nbformat": 4,
 "nbformat_minor": 4
}
